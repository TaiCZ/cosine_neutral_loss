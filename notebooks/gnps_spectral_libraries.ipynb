{
 "cells": [
  {
   "cell_type": "code",
   "execution_count": 39,
   "id": "2d058e45",
   "metadata": {},
   "outputs": [],
   "source": [
    "import os\n",
    "import sys\n",
    "# Make sure all code is in the PATH.\n",
    "sys.path.append(\"../src/\")"
   ]
  },
  {
   "cell_type": "code",
   "execution_count": 40,
   "id": "818f0dd9",
   "metadata": {},
   "outputs": [],
   "source": [
    "import functools\n",
    "import lzma\n",
    "import re\n",
    "\n",
    "import matplotlib.pyplot as plt\n",
    "import matplotlib.ticker as mticker\n",
    "import numba as nb\n",
    "import numpy as np\n",
    "import pandas as pd\n",
    "import pyteomics.mgf\n",
    "import seaborn as sns\n",
    "import tqdm.notebook as tqdm\n",
    "from matplotlib.colors import LogNorm\n",
    "import spectrum_utils.spectrum as sus\n",
    "import similarity\n"
   ]
  },
  {
   "cell_type": "code",
   "execution_count": 41,
   "id": "05c3d71a",
   "metadata": {},
   "outputs": [],
   "source": [
    "# Plot styling.\n",
    "plt.style.use([\"seaborn-white\", \"seaborn-paper\"])\n",
    "plt.rc(\"font\", family=\"sans-serif\")\n",
    "sns.set_palette([\"#9e0059\", \"#6da7de\", \"#ee266d\", \"#dee000\", \"#eb861e\"])\n",
    "sns.set_context(\"paper\")"
   ]
  },
  {
   "cell_type": "markdown",
   "source": [
    "## Setup parameters for the comparison\n"
   ],
   "metadata": {
    "collapsed": false,
    "pycharm": {
     "name": "#%% md\n"
    }
   }
  },
  {
   "cell_type": "code",
   "execution_count": 42,
   "outputs": [],
   "source": [
    "abs_mz_tolerance = 0.02\n",
    "max_mz_delta = 200\n",
    "# if defined, we will only search for specific delta m/z between two spectra\n",
    "# 16 oxygen 15.994914\n",
    "# specific_mod_mz = 15.994914\n",
    "# otherwise define as -1\n",
    "specific_mod_mz = -1"
   ],
   "metadata": {
    "collapsed": false,
    "pycharm": {
     "name": "#%%\n"
    }
   }
  },
  {
   "cell_type": "code",
   "execution_count": 43,
   "outputs": [],
   "source": [
    "# check for profile spectra in the library file - contains zero intensity values\n",
    "def is_centroid(spectrum_dict):\n",
    "    return all(i > 0 for i in spectrum_dict[\"intensity array\"])"
   ],
   "metadata": {
    "collapsed": false,
    "pycharm": {
     "name": "#%%\n"
    }
   }
  },
  {
   "cell_type": "code",
   "execution_count": null,
   "id": "d6eed4a0",
   "metadata": {
    "pycharm": {
     "is_executing": true
    }
   },
   "outputs": [
    {
     "data": {
      "text/plain": "0it [00:00, ?it/s]",
      "application/vnd.jupyter.widget-view+json": {
       "version_major": 2,
       "version_minor": 0,
       "model_id": "2864f23f0c7e4b36ace9f2eccc4077ac"
      }
     },
     "metadata": {},
     "output_type": "display_data"
    }
   ],
   "source": [
    "# Read all spectra from the ALL_GNPS.MGF from April 13. 2022\n",
    "# library contains propagated spectra, that will be filtered out\n",
    "# GNPS library from https://gnps-external.ucsd.edu/gnpslibrary\n",
    "c_error = 0\n",
    "c_propagated = 0\n",
    "c_multi_charged = 0\n",
    "c_removed = 0\n",
    "c_profile_spec = 0\n",
    "spectra = []\n",
    "# filename = \"../data/BILELIB19.mgf\"\n",
    "filename = \"../data/20220418_ALL_GNPS_NO_PROPOGATED.mgf\"\n",
    "with pyteomics.mgf.MGF(filename) as f_in:\n",
    "    for spectrum_dict in tqdm.tqdm(f_in):\n",
    "        # ignore propagated spectra with LIBRARYQUALITY==4\n",
    "        # ignore multiple charged molecules\n",
    "        try:\n",
    "            if int(spectrum_dict[\"params\"][\"libraryquality\"])<=3:\n",
    "                c_propagated += 1\n",
    "            elif int(spectrum_dict[\"params\"][\"charge\"][0])==1:\n",
    "                c_multi_charged +=1\n",
    "            elif not is_centroid(spectrum_dict):\n",
    "                c_profile_spec += 1\n",
    "            else:\n",
    "                spectra.append(\n",
    "                    sus.MsmsSpectrum(\n",
    "                        spectrum_dict[\"params\"][\"seq\"],\n",
    "                        float(spectrum_dict[\"params\"][\"pepmass\"][0]),\n",
    "                        int(spectrum_dict[\"params\"][\"charge\"][0]),\n",
    "                        spectrum_dict[\"m/z array\"],\n",
    "                        spectrum_dict[\"intensity array\"],\n",
    "                        #IONMODE=Positive\n",
    "                        #LIBRARYQUALITY=4\n",
    "                        #SPECTRUMID\n",
    "                        # NAME\n",
    "                        # SMILES\n",
    "                    )\n",
    "                )\n",
    "        except:\n",
    "            c_error += 1\n",
    "\n",
    "c_removed = c_propagated + c_error + c_multi_charged + c_profile_spec\n",
    "print(\"total spectra={};  total removed={};  error={};  multi charge={};  propagated spec={};  profile spec={}\".format(len(spectra), c_removed, c_error, c_multi_charged, c_propagated, c_profile_spec))"
   ]
  },
  {
   "cell_type": "code",
   "execution_count": 34,
   "outputs": [],
   "source": [
    "# sort spectra by precursor mz\n",
    "spectra.sort(key=lambda spec: spec.precursor_mz)\n",
    "# Extract precursor mz as filter argument\n",
    "precursor_mz = nb.typed.List()\n",
    "for spectrum in spectra:\n",
    "    precursor_mz.append(spectrum.precursor_mz)"
   ],
   "metadata": {
    "collapsed": false,
    "pycharm": {
     "name": "#%%\n"
    }
   }
  },
  {
   "cell_type": "code",
   "execution_count": 35,
   "id": "7be7c9e5",
   "metadata": {},
   "outputs": [],
   "source": [
    "@nb.njit\n",
    "def generate_pairs(precursor_mz):\n",
    "    \"\"\"\n",
    "    Create pairs of spectra that are compared.\n",
    "    Maximum precursor mz difference is 200 to limit the search space to a range from smaller modifications (e.g., +O) and\n",
    "    larger modifications (e.g., hexose)\n",
    "\n",
    "    Parameters\n",
    "    ----------\n",
    "    spectra a list of all spectra\n",
    "\n",
    "    Returns\n",
    "    -------\n",
    "\n",
    "    \"\"\"\n",
    "    for i in range(len(precursor_mz)):\n",
    "        j = i + 1\n",
    "        while (j < len(precursor_mz)) and (precursor_mz[j] <= precursor_mz[i] + max_mz_delta):\n",
    "            # list is sorted by precursor mz so j always > i\n",
    "            # select only one specific precursor mz differance or include all\n",
    "            if (specific_mod_mz < 0) or (abs(precursor_mz[j]-precursor_mz[i]-specific_mod_mz) <= abs_mz_tolerance):\n",
    "                yield i\n",
    "                yield j\n",
    "            j += 1"
   ]
  },
  {
   "cell_type": "code",
   "execution_count": 36,
   "id": "50302807",
   "metadata": {},
   "outputs": [],
   "source": [
    "\n",
    "pairs = [np.fromiter(\n",
    "    generate_pairs(precursor_mz),\n",
    "    np.uint32).reshape((-1, 2))]\n",
    "pairs = np.vstack(pairs)"
   ]
  },
  {
   "cell_type": "code",
   "execution_count": 37,
   "outputs": [
    {
     "name": "stdout",
     "output_type": "stream",
     "text": [
      "Comparing 41379 paris\n"
     ]
    }
   ],
   "source": [
    "print (\"Comparing {} pairs\".format(len(pairs)))"
   ],
   "metadata": {
    "collapsed": false,
    "pycharm": {
     "name": "#%%\n"
    }
   }
  },
  {
   "cell_type": "code",
   "execution_count": 38,
   "id": "c97f620c",
   "metadata": {},
   "outputs": [
    {
     "data": {
      "text/plain": "  0%|          | 0/41379 [00:00<?, ?it/s]",
      "application/vnd.jupyter.widget-view+json": {
       "version_major": 2,
       "version_minor": 0,
       "model_id": "32548de3c6914b68b6437e5f3ab3eaf5"
      }
     },
     "metadata": {},
     "output_type": "display_data"
    },
    {
     "ename": "KeyboardInterrupt",
     "evalue": "",
     "output_type": "error",
     "traceback": [
      "\u001B[1;31m---------------------------------------------------------------------------\u001B[0m",
      "\u001B[1;31mKeyboardInterrupt\u001B[0m                         Traceback (most recent call last)",
      "Input \u001B[1;32mIn [38]\u001B[0m, in \u001B[0;36m<cell line: 2>\u001B[1;34m()\u001B[0m\n\u001B[0;32m      2\u001B[0m \u001B[38;5;28;01mfor\u001B[39;00m i, j \u001B[38;5;129;01min\u001B[39;00m tqdm\u001B[38;5;241m.\u001B[39mtqdm(pairs):\n\u001B[0;32m      3\u001B[0m     cosines\u001B[38;5;241m.\u001B[39mappend(\n\u001B[0;32m      4\u001B[0m         similarity\u001B[38;5;241m.\u001B[39mcosine(spectra[i], spectra[j], abs_mz_tolerance)[\u001B[38;5;241m0\u001B[39m]\n\u001B[0;32m      5\u001B[0m     )\n\u001B[0;32m      6\u001B[0m     modified_cosines\u001B[38;5;241m.\u001B[39mappend(\n\u001B[1;32m----> 7\u001B[0m         \u001B[43msimilarity\u001B[49m\u001B[38;5;241;43m.\u001B[39;49m\u001B[43mmodified_cosine\u001B[49m\u001B[43m(\u001B[49m\n\u001B[0;32m      8\u001B[0m \u001B[43m            \u001B[49m\u001B[43mspectra\u001B[49m\u001B[43m[\u001B[49m\u001B[43mi\u001B[49m\u001B[43m]\u001B[49m\u001B[43m,\u001B[49m\u001B[43m \u001B[49m\u001B[43mspectra\u001B[49m\u001B[43m[\u001B[49m\u001B[43mj\u001B[49m\u001B[43m]\u001B[49m\u001B[43m,\u001B[49m\u001B[43m \u001B[49m\u001B[43mabs_mz_tolerance\u001B[49m\n\u001B[0;32m      9\u001B[0m \u001B[43m        \u001B[49m\u001B[43m)\u001B[49m[\u001B[38;5;241m0\u001B[39m]\n\u001B[0;32m     10\u001B[0m     )\n\u001B[0;32m     11\u001B[0m     neutral_losses\u001B[38;5;241m.\u001B[39mappend(\n\u001B[0;32m     12\u001B[0m         similarity\u001B[38;5;241m.\u001B[39mneutral_loss(\n\u001B[0;32m     13\u001B[0m             spectra[i], spectra[j], abs_mz_tolerance\n\u001B[0;32m     14\u001B[0m         )[\u001B[38;5;241m0\u001B[39m]\n\u001B[0;32m     15\u001B[0m     )\n\u001B[0;32m     16\u001B[0m similarities \u001B[38;5;241m=\u001B[39m pd\u001B[38;5;241m.\u001B[39mDataFrame(\n\u001B[0;32m     17\u001B[0m     {\n\u001B[0;32m     18\u001B[0m         \u001B[38;5;124m\"\u001B[39m\u001B[38;5;124mcosine\u001B[39m\u001B[38;5;124m\"\u001B[39m: cosines,\n\u001B[1;32m   (...)\u001B[0m\n\u001B[0;32m     21\u001B[0m     }\n\u001B[0;32m     22\u001B[0m )\n",
      "File \u001B[1;32mD:\\git\\cosine_neutral_loss\\src\\similarity.py:91\u001B[0m, in \u001B[0;36mmodified_cosine\u001B[1;34m(spectrum1, spectrum2, fragment_mz_tolerance)\u001B[0m\n\u001B[0;32m     88\u001B[0m     \u001B[38;5;28;01mfor\u001B[39;00m j \u001B[38;5;129;01min\u001B[39;00m \u001B[38;5;28mrange\u001B[39m(\u001B[38;5;28mlen\u001B[39m(spectrum2\u001B[38;5;241m.\u001B[39mmz)):\n\u001B[0;32m     89\u001B[0m         \u001B[38;5;28;01mfor\u001B[39;00m shift \u001B[38;5;129;01min\u001B[39;00m \u001B[38;5;28mrange\u001B[39m(num_shifts):\n\u001B[0;32m     90\u001B[0m             \u001B[38;5;28;01mif\u001B[39;00m (\n\u001B[1;32m---> 91\u001B[0m                 \u001B[38;5;28mabs\u001B[39m(spectrum1\u001B[38;5;241m.\u001B[39mmz[i] \u001B[38;5;241m-\u001B[39m (\u001B[43mspectrum2\u001B[49m\u001B[38;5;241;43m.\u001B[39;49m\u001B[43mmz\u001B[49m[j] \u001B[38;5;241m+\u001B[39m mass_diff[shift]))\n\u001B[0;32m     92\u001B[0m                 \u001B[38;5;241m<\u001B[39m\u001B[38;5;241m=\u001B[39m fragment_mz_tolerance\n\u001B[0;32m     93\u001B[0m             ):\n\u001B[0;32m     94\u001B[0m                 cost[i, j] \u001B[38;5;241m=\u001B[39m \u001B[38;5;28mmax\u001B[39m(intensity1[i] \u001B[38;5;241m*\u001B[39m intensity2[j], cost[i, j])\n\u001B[0;32m     96\u001B[0m \u001B[38;5;66;03m# Compute optimal assignment.\u001B[39;00m\n",
      "\u001B[1;31mKeyboardInterrupt\u001B[0m: "
     ]
    }
   ],
   "source": [
    "cosines, modified_cosines, neutral_losses = [], [], []\n",
    "for i, j in tqdm.tqdm(pairs):\n",
    "    cosines.append(\n",
    "        similarity.cosine(spectra[i], spectra[j], abs_mz_tolerance)[0]\n",
    "    )\n",
    "    modified_cosines.append(\n",
    "        similarity.modified_cosine(\n",
    "            spectra[i], spectra[j], abs_mz_tolerance\n",
    "        )[0]\n",
    "    )\n",
    "    neutral_losses.append(\n",
    "        similarity.neutral_loss(\n",
    "            spectra[i], spectra[j], abs_mz_tolerance\n",
    "        )[0]\n",
    "    )\n",
    "similarities = pd.DataFrame(\n",
    "    {\n",
    "        \"cosine\": cosines,\n",
    "        \"modified_cosine\": modified_cosines,\n",
    "        \"neutral_loss\": neutral_losses\n",
    "    }\n",
    ")\n",
    "similarities.to_parquet(\"gnps_lib_results.parquet\")"
   ]
  },
  {
   "cell_type": "code",
   "execution_count": null,
   "id": "7114f003",
   "metadata": {},
   "outputs": [],
   "source": [
    "fig, axes = plt.subplots(1, 3, figsize=(7.2, 7.2 / 1.618))\n",
    "\n",
    "bins = 50\n",
    "tick_locators = mticker.FixedLocator(np.arange(0, bins + 1, bins / 4))\n",
    "tick_labels = np.asarray([f\"{a:.2f}\" for a in np.arange(0, 1.01, 0.25)])\n",
    "for i, (xlabel, ylabel) in enumerate(\n",
    "        [\n",
    "            [\"cosine\", \"modified_cosine\"],\n",
    "            [\"neutral_loss\", \"cosine\"],\n",
    "            [\"neutral_loss\", \"modified_cosine\"]\n",
    "        ]\n",
    "    ):\n",
    "    hist, _, _ = np.histogram2d(\n",
    "        similarities[xlabel],\n",
    "        similarities[ylabel],\n",
    "        bins=bins,\n",
    "        range=[[0, 1], [0, 1]],\n",
    "    )\n",
    "    heatmap = sns.heatmap(\n",
    "        np.rot90(hist),\n",
    "        cmap=\"viridis\",\n",
    "        cbar=False,\n",
    "        square=True,\n",
    "        xticklabels=False,\n",
    "        yticklabels=False,\n",
    "        ax=axes[i],\n",
    "        norm=LogNorm(),\n",
    "    )\n",
    "    axes[i].yaxis.set_major_locator(tick_locators)\n",
    "    axes[i].set_yticklabels(tick_labels[::-1])\n",
    "    axes[i].xaxis.set_major_locator(tick_locators)\n",
    "    axes[i].set_xticklabels(tick_labels)\n",
    "    for _, spine in heatmap.spines.items():\n",
    "        spine.set_visible(True)\n",
    "    axes[i].set_xlabel(xlabel.replace(\"_\", \" \").capitalize())\n",
    "    axes[i].set_ylabel(ylabel.replace(\"_\", \" \").capitalize())\n",
    "    \n",
    "plt.tight_layout()\n",
    "\n",
    "plt.savefig(\"gnps_lib.png\", dpi=300, bbox_inches=\"tight\")\n",
    "plt.show()\n",
    "plt.close()"
   ]
  }
 ],
 "metadata": {
  "kernelspec": {
   "display_name": "Python 3 (ipykernel)",
   "language": "python",
   "name": "python3"
  },
  "language_info": {
   "codemirror_mode": {
    "name": "ipython",
    "version": 3
   },
   "file_extension": ".py",
   "mimetype": "text/x-python",
   "name": "python",
   "nbconvert_exporter": "python",
   "pygments_lexer": "ipython3",
   "version": "3.10.2"
  }
 },
 "nbformat": 4,
 "nbformat_minor": 5
}