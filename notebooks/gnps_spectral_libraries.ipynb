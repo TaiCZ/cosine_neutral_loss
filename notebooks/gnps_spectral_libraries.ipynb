{
 "cells": [
  {
   "cell_type": "code",
   "execution_count": 1,
   "id": "2d058e45",
   "metadata": {},
   "outputs": [],
   "source": [
    "import os\n",
    "import sys\n",
    "from pathlib import Path\n",
    "# Make sure all code is in the PATH.\n",
    "sys.path.append(\"../src/\")"
   ]
  },
  {
   "cell_type": "code",
   "execution_count": 2,
   "id": "818f0dd9",
   "metadata": {},
   "outputs": [],
   "source": [
    "import functools\n",
    "import lzma\n",
    "import re\n",
    "\n",
    "import matplotlib.pyplot as plt\n",
    "import matplotlib.ticker as mticker\n",
    "import numba as nb\n",
    "import numpy as np\n",
    "import pandas as pd\n",
    "import pyteomics.mgf\n",
    "import seaborn as sns\n",
    "import tqdm.notebook as tqdm\n",
    "from matplotlib.colors import LogNorm\n",
    "import spectrum_utils.spectrum as sus\n",
    "import similarity\n"
   ]
  },
  {
   "cell_type": "code",
   "execution_count": 33,
   "id": "05c3d71a",
   "metadata": {},
   "outputs": [],
   "source": [
    "# Plot styling.\n",
    "plt.style.use([\"seaborn-white\", \"seaborn-paper\"])\n",
    "plt.rc(\"font\", family=\"sans-serif\")\n",
    "sns.set_palette([\"#9e0059\", \"#6da7de\", \"#ee266d\", \"#dee000\", \"#eb861e\"])\n",
    "sns.set_context(\"paper\")"
   ]
  },
  {
   "cell_type": "markdown",
   "source": [
    "## Setup parameters for the comparison\n"
   ],
   "metadata": {
    "collapsed": false,
    "pycharm": {
     "name": "#%% md\n"
    }
   }
  },
  {
   "cell_type": "code",
   "execution_count": 34,
   "outputs": [],
   "source": [
    "library_file = \"../data/BILELIB19.mgf\"\n",
    "# library_file = \"../data/20220418_ALL_GNPS_NO_PROPOGATED.mgf\"\n",
    "\n",
    "# analysis name\n",
    "analysis_name = \"bile_bib\"\n",
    "\n",
    "# square root transformation of intensities is often performed to limit the impact of high abundant signals\n",
    "apply_sqrt = True\n",
    "\n",
    "# size of subset of spectral pairs\n",
    "n_spectral_pairs = 500000\n",
    "\n",
    "# minimum number of signals only removes the spectra with less\n",
    "min_n_signals = 6\n",
    "\n",
    "# signal alignment tolerance\n",
    "abs_mz_tolerance = 0.02\n",
    "# only allow precursor mz difference of:\n",
    "max_mz_delta = 200\n",
    "# if defined, we will only search for specific delta m/z between two spectra\n",
    "# 16 oxygen 15.994914\n",
    "# otherwise define as -1\n",
    "# specific_mod_mz = 15.9949\n",
    "specific_mod_mz = -1\n",
    "\n",
    "# analysis ID is used for file export\n",
    "if specific_mod_mz <= 0:\n",
    "    analysis_id = \"{}_sqrt_{}_{}pairs_{}min_signals_{}maxdelta\"\\\n",
    "        .format(analysis_name, apply_sqrt,n_spectral_pairs, min_n_signals, max_mz_delta).replace(\".\", \"i\")\n",
    "else:\n",
    "    analysis_id = \"{}_sqrt_{}_{}pairs_{}min_signals_{}specific_delta\"\\\n",
    "        .format(analysis_name, apply_sqrt,n_spectral_pairs, min_n_signals, specific_mod_mz).replace(\".\",\"i\")\n",
    "\n",
    "# output filename of pairs only with pair selection relevant parameters:\n",
    "pairs_filename = \"temp/{}_pairs.parquet\".format(analysis_id).replace(\"sqrt_True_\", \"\").replace(\"sqrt_False_\", \"\")"
   ],
   "metadata": {
    "collapsed": false,
    "pycharm": {
     "name": "#%%\n"
    }
   }
  },
  {
   "cell_type": "code",
   "execution_count": 35,
   "outputs": [],
   "source": [
    "# check for profile spectra in the library file - contains zero intensity values\n",
    "def is_centroid(spectrum_dict):\n",
    "    return all(i > 0 for i in spectrum_dict[\"intensity array\"])"
   ],
   "metadata": {
    "collapsed": false,
    "pycharm": {
     "name": "#%%\n"
    }
   }
  },
  {
   "cell_type": "code",
   "execution_count": 36,
   "id": "d6eed4a0",
   "metadata": {},
   "outputs": [
    {
     "data": {
      "text/plain": "0it [00:00, ?it/s]",
      "application/vnd.jupyter.widget-view+json": {
       "version_major": 2,
       "version_minor": 0,
       "model_id": "8387bb1ee7264a578c3d4959aa89ff3d"
      }
     },
     "metadata": {},
     "output_type": "display_data"
    },
    {
     "name": "stdout",
     "output_type": "stream",
     "text": [
      "total spectra=846;  total removed=3687;  few signals=3;  error=0;  polarity mismatch=59;  multi charge=668;  propagated spec=0;  not M+H=2957;  profile spec=0\n"
     ]
    }
   ],
   "source": [
    "# Read all spectra from the ALL_GNPS.MGF from April 13. 2022\n",
    "# library contains propagated spectra, that will be filtered out\n",
    "# GNPS library from https://gnps-external.ucsd.edu/gnpslibrary\n",
    "c_error = 0\n",
    "c_propagated = 0\n",
    "c_multi_charged = 0\n",
    "c_removed = 0\n",
    "c_profile_spec = 0\n",
    "c_below_n_signals = 0\n",
    "c_polarity = 0\n",
    "c_not_protonated = 0\n",
    "spectra = []\n",
    "with pyteomics.mgf.MGF(library_file) as f_in:\n",
    "    for spectrum_dict in tqdm.tqdm(f_in):\n",
    "        # ignore:\n",
    "        #   - propagated spectra with LIBRARYQUALITY==4\n",
    "        #   - multiple charged molecules\n",
    "        #   - < minimum signals\n",
    "        #   - not positive mode\n",
    "        #   - not M+H\n",
    "        #   - not centroid (contains zero intensity values)\n",
    "        try:\n",
    "            if int(spectrum_dict[\"params\"][\"libraryquality\"])>3:\n",
    "                c_propagated += 1\n",
    "            elif int(spectrum_dict[\"params\"][\"charge\"][0])!=1:\n",
    "                c_multi_charged +=1\n",
    "            elif len(spectrum_dict[\"m/z array\"])<min_n_signals:\n",
    "                c_below_n_signals += 1\n",
    "            elif str(spectrum_dict[\"params\"][\"ionmode\"]) != \"Positive\":\n",
    "                c_polarity += 1\n",
    "            elif not str(spectrum_dict[\"params\"][\"name\"]).rstrip().endswith(\" M+H\"):\n",
    "                c_not_protonated += 1\n",
    "            elif not is_centroid(spectrum_dict):\n",
    "                c_profile_spec += 1\n",
    "            else:\n",
    "                intensities = spectrum_dict[\"intensity array\"]\n",
    "                if apply_sqrt:\n",
    "                    intensities = np.sqrt(intensities)\n",
    "                spectra.append(\n",
    "                    sus.MsmsSpectrum(\n",
    "                        spectrum_dict[\"params\"][\"spectrumid\"],\n",
    "                        float(spectrum_dict[\"params\"][\"pepmass\"][0]),\n",
    "                        int(spectrum_dict[\"params\"][\"charge\"][0]),\n",
    "                        spectrum_dict[\"m/z array\"],\n",
    "                        intensities,\n",
    "                        #IONMODE=Positive\n",
    "                        #LIBRARYQUALITY=4\n",
    "                        #SPECTRUMID\n",
    "                        # NAME\n",
    "                        # SMILES\n",
    "                    )\n",
    "                )\n",
    "        except:\n",
    "            c_error += 1\n",
    "\n",
    "c_removed = c_propagated + c_error + c_multi_charged + c_profile_spec + c_below_n_signals + c_polarity + c_not_protonated\n",
    "print(\"total spectra={};  total removed={};  few signals={};  error={};  polarity mismatch={};  multi charge={};  propagated spec={};  not M+H={};  profile spec={}\".format(len(spectra), c_removed, c_below_n_signals, c_error, c_polarity, c_multi_charged, c_propagated, c_not_protonated, c_profile_spec))"
   ]
  },
  {
   "cell_type": "code",
   "execution_count": 37,
   "outputs": [],
   "source": [
    "# sort spectra by precursor mz\n",
    "spectra.sort(key=lambda spec: spec.precursor_mz)\n",
    "# Extract precursor mz as filter argument\n",
    "precursor_mz = nb.typed.List()\n",
    "for spectrum in spectra:\n",
    "    precursor_mz.append(spectrum.precursor_mz)"
   ],
   "metadata": {
    "collapsed": false,
    "pycharm": {
     "name": "#%%\n"
    }
   }
  },
  {
   "cell_type": "code",
   "execution_count": 38,
   "id": "7be7c9e5",
   "metadata": {},
   "outputs": [],
   "source": [
    "@nb.njit\n",
    "def generate_pairs(precursor_mz):\n",
    "    \"\"\"\n",
    "    Create pairs of spectra that are compared.\n",
    "    Maximum precursor mz difference is 200 to limit the search space to a range from smaller modifications (e.g., +O) and\n",
    "    larger modifications (e.g., hexose)\n",
    "\n",
    "    Parameters\n",
    "    ----------\n",
    "    spectra a list of all spectra\n",
    "\n",
    "    Returns yields two indices\n",
    "    -------\n",
    "\n",
    "    \"\"\"\n",
    "    for i in range(len(precursor_mz)):\n",
    "        j = i + 1\n",
    "        while (j < len(precursor_mz)) and (precursor_mz[j] <= precursor_mz[i] + max_mz_delta):\n",
    "            delta = precursor_mz[j]-precursor_mz[i]\n",
    "            if delta > 1:\n",
    "                # list is sorted by precursor mz so j always > i\n",
    "                # select only one specific precursor mz differance or include all\n",
    "                if (specific_mod_mz < 0) or (abs(delta-specific_mod_mz) <= abs_mz_tolerance):\n",
    "                    yield i\n",
    "                    yield j\n",
    "            j += 1"
   ]
  },
  {
   "cell_type": "code",
   "execution_count": 39,
   "id": "50302807",
   "metadata": {},
   "outputs": [],
   "source": [
    "# try to load precomputed pairs\n",
    "try:\n",
    "    pairs_df= pd.read_parquet(pairs_filename)\n",
    "except:\n",
    "    # create pairs and randomly subset\n",
    "    rng = np.random.default_rng(2022)\n",
    "    pairs = np.fromiter(\n",
    "        generate_pairs(precursor_mz),\n",
    "        np.uint32).reshape((-1, 2))\n",
    "    pairs = rng.choice(pairs, min(len(pairs), n_spectral_pairs), replace=False)\n",
    "\n",
    "    pairs_df = pd.DataFrame(pairs, columns=['index1','index2'])\n",
    "    # save pairs to speed up reanalysis\n",
    "    Path(\"temp/\").mkdir(parents=True, exist_ok=True)\n",
    "    pairs_df.to_parquet(pairs_filename)"
   ]
  },
  {
   "cell_type": "code",
   "execution_count": 40,
   "outputs": [
    {
     "name": "stdout",
     "output_type": "stream",
     "text": [
      "Comparing 340637 pairs\n"
     ]
    }
   ],
   "source": [
    "print (\"Comparing {} pairs\".format(len(pairs_df)))"
   ],
   "metadata": {
    "collapsed": false,
    "pycharm": {
     "name": "#%%\n"
    }
   }
  },
  {
   "cell_type": "code",
   "execution_count": 41,
   "id": "c97f620c",
   "metadata": {},
   "outputs": [
    {
     "data": {
      "text/plain": "0it [00:00, ?it/s]",
      "application/vnd.jupyter.widget-view+json": {
       "version_major": 2,
       "version_minor": 0,
       "model_id": "ab2acb0509b94b44bf8acad1184323ce"
      }
     },
     "metadata": {},
     "output_type": "display_data"
    },
    {
     "ename": "KeyboardInterrupt",
     "evalue": "",
     "output_type": "error",
     "traceback": [
      "\u001B[1;31m---------------------------------------------------------------------------\u001B[0m",
      "\u001B[1;31mKeyboardInterrupt\u001B[0m                         Traceback (most recent call last)",
      "Input \u001B[1;32mIn [41]\u001B[0m, in \u001B[0;36m<cell line: 5>\u001B[1;34m()\u001B[0m\n\u001B[0;32m      5\u001B[0m \u001B[38;5;28;01mfor\u001B[39;00m i, j \u001B[38;5;129;01min\u001B[39;00m tqdm\u001B[38;5;241m.\u001B[39mtqdm(\u001B[38;5;28mzip\u001B[39m(pairs_df[\u001B[38;5;124m\"\u001B[39m\u001B[38;5;124mindex1\u001B[39m\u001B[38;5;124m\"\u001B[39m], pairs_df[\u001B[38;5;124m\"\u001B[39m\u001B[38;5;124mindex2\u001B[39m\u001B[38;5;124m\"\u001B[39m])):\n\u001B[0;32m      6\u001B[0m     \u001B[38;5;66;03m# calculate scores and add to lists\u001B[39;00m\n\u001B[0;32m      7\u001B[0m     cos \u001B[38;5;241m=\u001B[39m similarity\u001B[38;5;241m.\u001B[39mcosine(spectra[i], spectra[j], abs_mz_tolerance)\n\u001B[1;32m----> 8\u001B[0m     mod_cos \u001B[38;5;241m=\u001B[39m \u001B[43msimilarity\u001B[49m\u001B[38;5;241;43m.\u001B[39;49m\u001B[43mmodified_cosine\u001B[49m\u001B[43m(\u001B[49m\u001B[43mspectra\u001B[49m\u001B[43m[\u001B[49m\u001B[43mi\u001B[49m\u001B[43m]\u001B[49m\u001B[43m,\u001B[49m\u001B[43m \u001B[49m\u001B[43mspectra\u001B[49m\u001B[43m[\u001B[49m\u001B[43mj\u001B[49m\u001B[43m]\u001B[49m\u001B[43m,\u001B[49m\u001B[43m \u001B[49m\u001B[43mabs_mz_tolerance\u001B[49m\u001B[43m)\u001B[49m\n\u001B[0;32m      9\u001B[0m     nl \u001B[38;5;241m=\u001B[39m similarity\u001B[38;5;241m.\u001B[39mneutral_loss(spectra[i], spectra[j], abs_mz_tolerance)\n\u001B[0;32m     10\u001B[0m     \u001B[38;5;28;01mif\u001B[39;00m (nl\u001B[38;5;241m.\u001B[39mscore \u001B[38;5;241m>\u001B[39m \u001B[38;5;241m0\u001B[39m) \u001B[38;5;129;01mand\u001B[39;00m (cos\u001B[38;5;241m.\u001B[39mscore \u001B[38;5;241m>\u001B[39m \u001B[38;5;241m0\u001B[39m) \u001B[38;5;129;01mand\u001B[39;00m (mod_cos\u001B[38;5;241m.\u001B[39mscore \u001B[38;5;241m>\u001B[39m \u001B[38;5;241m0\u001B[39m):\n",
      "File \u001B[1;32mD:\\git\\cosine_neutral_loss\\src\\similarity.py:73\u001B[0m, in \u001B[0;36mmodified_cosine\u001B[1;34m(spectrum1, spectrum2, fragment_mz_tolerance)\u001B[0m\n\u001B[0;32m     50\u001B[0m \u001B[38;5;28;01mdef\u001B[39;00m \u001B[38;5;21mmodified_cosine\u001B[39m(\n\u001B[0;32m     51\u001B[0m         spectrum1: sus\u001B[38;5;241m.\u001B[39mMsmsSpectrum,\n\u001B[0;32m     52\u001B[0m         spectrum2: sus\u001B[38;5;241m.\u001B[39mMsmsSpectrum,\n\u001B[0;32m     53\u001B[0m         fragment_mz_tolerance: \u001B[38;5;28mfloat\u001B[39m,\n\u001B[0;32m     54\u001B[0m ) \u001B[38;5;241m-\u001B[39m\u001B[38;5;241m>\u001B[39m SimilarityTuple:\n\u001B[0;32m     55\u001B[0m     \u001B[38;5;124;03m\"\"\"\u001B[39;00m\n\u001B[0;32m     56\u001B[0m \u001B[38;5;124;03m    Compute the modified cosine similarity between the given spectra.\u001B[39;00m\n\u001B[0;32m     57\u001B[0m \n\u001B[1;32m   (...)\u001B[0m\n\u001B[0;32m     71\u001B[0m \u001B[38;5;124;03m        and (iii) a tuple with arrays of the matching peak indexes in the first and second spectrum, respectively.\u001B[39;00m\n\u001B[0;32m     72\u001B[0m \u001B[38;5;124;03m    \"\"\"\u001B[39;00m\n\u001B[1;32m---> 73\u001B[0m     \u001B[38;5;28;01mreturn\u001B[39;00m \u001B[43m_cosine\u001B[49m\u001B[43m(\u001B[49m\u001B[43mspectrum1\u001B[49m\u001B[43m,\u001B[49m\u001B[43m \u001B[49m\u001B[43mspectrum2\u001B[49m\u001B[43m,\u001B[49m\u001B[43m \u001B[49m\u001B[43mfragment_mz_tolerance\u001B[49m\u001B[43m,\u001B[49m\u001B[43m \u001B[49m\u001B[38;5;28;43;01mTrue\u001B[39;49;00m\u001B[43m)\u001B[49m\n",
      "File \u001B[1;32mD:\\git\\cosine_neutral_loss\\src\\similarity.py:143\u001B[0m, in \u001B[0;36m_cosine\u001B[1;34m(spectrum1, spectrum2, fragment_mz_tolerance, allow_shift)\u001B[0m\n\u001B[0;32m    131\u001B[0m spec_tup1 \u001B[38;5;241m=\u001B[39m SpectrumTuple(\n\u001B[0;32m    132\u001B[0m     spectrum1\u001B[38;5;241m.\u001B[39mprecursor_mz,\n\u001B[0;32m    133\u001B[0m     spectrum1\u001B[38;5;241m.\u001B[39mprecursor_charge,\n\u001B[0;32m    134\u001B[0m     spectrum1\u001B[38;5;241m.\u001B[39mmz,\n\u001B[0;32m    135\u001B[0m     np\u001B[38;5;241m.\u001B[39mcopy(spectrum1\u001B[38;5;241m.\u001B[39mintensity) \u001B[38;5;241m/\u001B[39m np\u001B[38;5;241m.\u001B[39mlinalg\u001B[38;5;241m.\u001B[39mnorm(spectrum1\u001B[38;5;241m.\u001B[39mintensity),\n\u001B[0;32m    136\u001B[0m )\n\u001B[0;32m    137\u001B[0m spec_tup2 \u001B[38;5;241m=\u001B[39m SpectrumTuple(\n\u001B[0;32m    138\u001B[0m     spectrum2\u001B[38;5;241m.\u001B[39mprecursor_mz,\n\u001B[0;32m    139\u001B[0m     spectrum2\u001B[38;5;241m.\u001B[39mprecursor_charge,\n\u001B[0;32m    140\u001B[0m     spectrum2\u001B[38;5;241m.\u001B[39mmz,\n\u001B[0;32m    141\u001B[0m     np\u001B[38;5;241m.\u001B[39mcopy(spectrum2\u001B[38;5;241m.\u001B[39mintensity) \u001B[38;5;241m/\u001B[39m np\u001B[38;5;241m.\u001B[39mlinalg\u001B[38;5;241m.\u001B[39mnorm(spectrum2\u001B[38;5;241m.\u001B[39mintensity),\n\u001B[0;32m    142\u001B[0m )\n\u001B[1;32m--> 143\u001B[0m \u001B[38;5;28;01mreturn\u001B[39;00m \u001B[43m_cosine_fast\u001B[49m\u001B[43m(\u001B[49m\n\u001B[0;32m    144\u001B[0m \u001B[43m    \u001B[49m\u001B[43mspec_tup1\u001B[49m\u001B[43m,\u001B[49m\u001B[43m \u001B[49m\u001B[43mspec_tup2\u001B[49m\u001B[43m,\u001B[49m\u001B[43m \u001B[49m\u001B[43mfragment_mz_tolerance\u001B[49m\u001B[43m,\u001B[49m\u001B[43m \u001B[49m\u001B[43mallow_shift\u001B[49m\n\u001B[0;32m    145\u001B[0m \u001B[43m\u001B[49m\u001B[43m)\u001B[49m\n",
      "File \u001B[1;32mD:\\git\\cosine_neutral_loss\\venv\\lib\\site-packages\\scipy\\optimize\\_lsap.py:86\u001B[0m, in \u001B[0;36mlinear_sum_assignment\u001B[1;34m(cost_matrix, maximize)\u001B[0m\n\u001B[0;32m     15\u001B[0m \u001B[38;5;28;01mdef\u001B[39;00m \u001B[38;5;21mlinear_sum_assignment\u001B[39m(cost_matrix, maximize\u001B[38;5;241m=\u001B[39m\u001B[38;5;28;01mFalse\u001B[39;00m):\n\u001B[0;32m     16\u001B[0m     \u001B[38;5;124;03m\"\"\"Solve the linear sum assignment problem.\u001B[39;00m\n\u001B[0;32m     17\u001B[0m \n\u001B[0;32m     18\u001B[0m \u001B[38;5;124;03m    Parameters\u001B[39;00m\n\u001B[1;32m   (...)\u001B[0m\n\u001B[0;32m     84\u001B[0m \u001B[38;5;124;03m    5\u001B[39;00m\n\u001B[0;32m     85\u001B[0m \u001B[38;5;124;03m    \"\"\"\u001B[39;00m\n\u001B[1;32m---> 86\u001B[0m     \u001B[38;5;28;01mreturn\u001B[39;00m \u001B[43m_lsap_module\u001B[49m\u001B[38;5;241;43m.\u001B[39;49m\u001B[43mcalculate_assignment\u001B[49m\u001B[43m(\u001B[49m\u001B[43mcost_matrix\u001B[49m\u001B[43m,\u001B[49m\u001B[43m \u001B[49m\u001B[43mmaximize\u001B[49m\u001B[43m)\u001B[49m\n",
      "\u001B[1;31mKeyboardInterrupt\u001B[0m: "
     ]
    }
   ],
   "source": [
    "# common columns\n",
    "ids_a, ids_b, delta_mz = [],[],[]\n",
    "# lists of SimilarityTuples\n",
    "cosines, modified_cosines, neutral_losses = [], [], []\n",
    "for i, j in tqdm.tqdm(zip(pairs_df[\"index1\"], pairs_df[\"index2\"])):\n",
    "    # calculate scores and add to lists\n",
    "    cos = similarity.cosine(spectra[i], spectra[j], abs_mz_tolerance)\n",
    "    mod_cos = similarity.modified_cosine(spectra[i], spectra[j], abs_mz_tolerance)\n",
    "    nl = similarity.neutral_loss(spectra[i], spectra[j], abs_mz_tolerance)\n",
    "    if (nl.score > 0) and (cos.score > 0) and (mod_cos.score > 0):\n",
    "        cosines.append(cos)\n",
    "        modified_cosines.append(mod_cos)\n",
    "        neutral_losses.append(nl)\n",
    "        ids_a.append(spectra[i].identifier)\n",
    "        ids_b.append(spectra[j].identifier)\n",
    "        delta_mz.append(abs(spectra[i].precursor_mz - spectra[j].precursor_mz))"
   ]
  },
  {
   "cell_type": "code",
   "execution_count": 43,
   "outputs": [
    {
     "data": {
      "text/plain": "134394"
     },
     "execution_count": 43,
     "metadata": {},
     "output_type": "execute_result"
    }
   ],
   "source": [
    "similarities = pd.DataFrame(\n",
    "    {\n",
    "        \"id1\": ids_a,\n",
    "        \"id2\": ids_b,\n",
    "        \"delta_mz\": delta_mz\n",
    "    }\n",
    ")\n",
    "\n",
    "tmp = pd.DataFrame(cosines)\n",
    "tmp = tmp.add_prefix('cos_')\n",
    "similarities = similarities.join(tmp)\n",
    "\n",
    "tmp = pd.DataFrame(modified_cosines)\n",
    "tmp = tmp.add_prefix('mod_')\n",
    "similarities = similarities.join(tmp)\n",
    "\n",
    "tmp = pd.DataFrame(neutral_losses)\n",
    "tmp = tmp.add_prefix('nl_')\n",
    "similarities = similarities.join(tmp)\n",
    "\n",
    "len(similarities)"
   ],
   "metadata": {
    "collapsed": false,
    "pycharm": {
     "name": "#%%\n"
    }
   }
  },
  {
   "cell_type": "code",
   "execution_count": 44,
   "outputs": [
    {
     "data": {
      "text/plain": "                  id1                 id2  delta_mz  cos_score  \\\n0  CCMSLIB00006582626  CCMSLIB00006584710    32.041   0.253021   \n1  CCMSLIB00006584101  CCMSLIB00005464822    28.964   0.255197   \n2  CCMSLIB00006582415  CCMSLIB00006584162   108.021   0.474219   \n3  CCMSLIB00006582186  CCMSLIB00006583507    30.011   0.401008   \n4  CCMSLIB00006583524  CCMSLIB00006582801    39.011   0.326879   \n\n   cos_matched_intensity  cos_max_contribution  cos_n_greq_2p  cos_matches  \\\n0               0.752308              0.020857              1           54   \n1               0.643137              0.010397              0          316   \n2               0.841953              0.059818              3          111   \n3               0.902709              0.020735              1           84   \n4               0.940513              0.038459              1          101   \n\n   mod_score  mod_matched_intensity  mod_max_contribution  mod_n_greq_2p  \\\n0   0.325500               0.863359              0.053959              2   \n1   0.288207               0.706052              0.010397              0   \n2   0.766874               0.982028              0.124362              5   \n3   0.460588               0.929210              0.054595              2   \n4   0.698876               0.985921              0.172665              6   \n\n   mod_matches  nl_score  nl_matched_intensity  nl_max_contribution  \\\n0           59  0.173962              0.646030             0.053959   \n1          380  0.065977              0.350460             0.007317   \n2          135  0.307498              0.509573             0.124362   \n3           88  0.267475              0.794295             0.054595   \n4          107  0.481705              0.869186             0.172665   \n\n   nl_n_greq_2p  nl_matches  \n0             1          42  \n1             0         199  \n2             2          62  \n3             1          74  \n4             5          83  ",
      "text/html": "<div>\n<style scoped>\n    .dataframe tbody tr th:only-of-type {\n        vertical-align: middle;\n    }\n\n    .dataframe tbody tr th {\n        vertical-align: top;\n    }\n\n    .dataframe thead th {\n        text-align: right;\n    }\n</style>\n<table border=\"1\" class=\"dataframe\">\n  <thead>\n    <tr style=\"text-align: right;\">\n      <th></th>\n      <th>id1</th>\n      <th>id2</th>\n      <th>delta_mz</th>\n      <th>cos_score</th>\n      <th>cos_matched_intensity</th>\n      <th>cos_max_contribution</th>\n      <th>cos_n_greq_2p</th>\n      <th>cos_matches</th>\n      <th>mod_score</th>\n      <th>mod_matched_intensity</th>\n      <th>mod_max_contribution</th>\n      <th>mod_n_greq_2p</th>\n      <th>mod_matches</th>\n      <th>nl_score</th>\n      <th>nl_matched_intensity</th>\n      <th>nl_max_contribution</th>\n      <th>nl_n_greq_2p</th>\n      <th>nl_matches</th>\n    </tr>\n  </thead>\n  <tbody>\n    <tr>\n      <th>0</th>\n      <td>CCMSLIB00006582626</td>\n      <td>CCMSLIB00006584710</td>\n      <td>32.041</td>\n      <td>0.253021</td>\n      <td>0.752308</td>\n      <td>0.020857</td>\n      <td>1</td>\n      <td>54</td>\n      <td>0.325500</td>\n      <td>0.863359</td>\n      <td>0.053959</td>\n      <td>2</td>\n      <td>59</td>\n      <td>0.173962</td>\n      <td>0.646030</td>\n      <td>0.053959</td>\n      <td>1</td>\n      <td>42</td>\n    </tr>\n    <tr>\n      <th>1</th>\n      <td>CCMSLIB00006584101</td>\n      <td>CCMSLIB00005464822</td>\n      <td>28.964</td>\n      <td>0.255197</td>\n      <td>0.643137</td>\n      <td>0.010397</td>\n      <td>0</td>\n      <td>316</td>\n      <td>0.288207</td>\n      <td>0.706052</td>\n      <td>0.010397</td>\n      <td>0</td>\n      <td>380</td>\n      <td>0.065977</td>\n      <td>0.350460</td>\n      <td>0.007317</td>\n      <td>0</td>\n      <td>199</td>\n    </tr>\n    <tr>\n      <th>2</th>\n      <td>CCMSLIB00006582415</td>\n      <td>CCMSLIB00006584162</td>\n      <td>108.021</td>\n      <td>0.474219</td>\n      <td>0.841953</td>\n      <td>0.059818</td>\n      <td>3</td>\n      <td>111</td>\n      <td>0.766874</td>\n      <td>0.982028</td>\n      <td>0.124362</td>\n      <td>5</td>\n      <td>135</td>\n      <td>0.307498</td>\n      <td>0.509573</td>\n      <td>0.124362</td>\n      <td>2</td>\n      <td>62</td>\n    </tr>\n    <tr>\n      <th>3</th>\n      <td>CCMSLIB00006582186</td>\n      <td>CCMSLIB00006583507</td>\n      <td>30.011</td>\n      <td>0.401008</td>\n      <td>0.902709</td>\n      <td>0.020735</td>\n      <td>1</td>\n      <td>84</td>\n      <td>0.460588</td>\n      <td>0.929210</td>\n      <td>0.054595</td>\n      <td>2</td>\n      <td>88</td>\n      <td>0.267475</td>\n      <td>0.794295</td>\n      <td>0.054595</td>\n      <td>1</td>\n      <td>74</td>\n    </tr>\n    <tr>\n      <th>4</th>\n      <td>CCMSLIB00006583524</td>\n      <td>CCMSLIB00006582801</td>\n      <td>39.011</td>\n      <td>0.326879</td>\n      <td>0.940513</td>\n      <td>0.038459</td>\n      <td>1</td>\n      <td>101</td>\n      <td>0.698876</td>\n      <td>0.985921</td>\n      <td>0.172665</td>\n      <td>6</td>\n      <td>107</td>\n      <td>0.481705</td>\n      <td>0.869186</td>\n      <td>0.172665</td>\n      <td>5</td>\n      <td>83</td>\n    </tr>\n  </tbody>\n</table>\n</div>"
     },
     "execution_count": 44,
     "metadata": {},
     "output_type": "execute_result"
    }
   ],
   "source": [
    "Path(\"results/\").mkdir(parents=True, exist_ok=True)\n",
    "similarities.to_parquet(\"results/{}.parquet\".format(analysis_id))\n",
    "similarities.head(5)"
   ],
   "metadata": {
    "collapsed": false,
    "pycharm": {
     "name": "#%%\n"
    }
   }
  },
  {
   "cell_type": "code",
   "execution_count": 45,
   "id": "7114f003",
   "metadata": {
    "pycharm": {
     "name": "#%%\n"
    }
   },
   "outputs": [
    {
     "data": {
      "text/plain": "<Figure size 518.4x320.396 with 3 Axes>",
      "image/png": "[encoded data removed]"
     },
     "metadata": {},
     "output_type": "display_data"
    }
   ],
   "source": [
    "fig, axes = plt.subplots(1, 3, figsize=(7.2, 7.2 / 1.618))\n",
    "\n",
    "bins = 50\n",
    "tick_locators = mticker.FixedLocator(np.arange(0, bins + 1, bins / 4))\n",
    "tick_labels = np.asarray([f\"{a:.2f}\" for a in np.arange(0, 1.01, 0.25)])\n",
    "for i, (xlabel, ylabel) in enumerate(\n",
    "        [\n",
    "            [\"cos_score\", \"mod_score\"],\n",
    "            [\"nl_score\", \"cos_score\"],\n",
    "            [\"nl_score\", \"mod_score\"]\n",
    "        ]\n",
    "    ):\n",
    "    hist, _, _ = np.histogram2d(\n",
    "        similarities[xlabel],\n",
    "        similarities[ylabel],\n",
    "        bins=bins,\n",
    "        range=[[0, 1], [0, 1]],\n",
    "    )\n",
    "    heatmap = sns.heatmap(\n",
    "        np.rot90(hist),\n",
    "        cmap=\"viridis\",\n",
    "        cbar=False,\n",
    "        square=True,\n",
    "        xticklabels=False,\n",
    "        yticklabels=False,\n",
    "        ax=axes[i],\n",
    "        norm=LogNorm(),\n",
    "    )\n",
    "    axes[i].yaxis.set_major_locator(tick_locators)\n",
    "    axes[i].set_yticklabels(tick_labels[::-1])\n",
    "    axes[i].xaxis.set_major_locator(tick_locators)\n",
    "    axes[i].set_xticklabels(tick_labels)\n",
    "    for _, spine in heatmap.spines.items():\n",
    "        spine.set_visible(True)\n",
    "    axes[i].set_xlabel(xlabel.replace(\"_\", \" \").capitalize())\n",
    "    axes[i].set_ylabel(ylabel.replace(\"_\", \" \").capitalize())\n",
    "    \n",
    "plt.tight_layout()\n",
    "\n",
    "Path(\"results/img/\").mkdir(parents=True, exist_ok=True)\n",
    "plt.savefig(\"results/img/{}.png\".format(analysis_name), dpi=300, bbox_inches=\"tight\")\n",
    "plt.show()\n",
    "plt.close()"
   ]
  },
  {
   "cell_type": "code",
   "execution_count": null,
   "outputs": [],
   "source": [],
   "metadata": {
    "collapsed": false,
    "pycharm": {
     "name": "#%%\n"
    }
   }
  }
 ],
 "metadata": {
  "kernelspec": {
   "display_name": "Python 3 (ipykernel)",
   "language": "python",
   "name": "python3"
  },
  "language_info": {
   "codemirror_mode": {
    "name": "ipython",
    "version": 3
   },
   "file_extension": ".py",
   "mimetype": "text/x-python",
   "name": "python",
   "nbconvert_exporter": "python",
   "pygments_lexer": "ipython3",
   "version": "3.10.2"
  }
 },
 "nbformat": 4,
 "nbformat_minor": 5
}