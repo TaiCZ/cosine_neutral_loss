{
 "cells": [
  {
   "cell_type": "code",
   "execution_count": 62,
   "id": "2d058e45",
   "metadata": {
    "pycharm": {
     "name": "#%%\n"
    }
   },
   "outputs": [],
   "source": [
    "import os\n",
    "import sys\n",
    "from pathlib import Path\n",
    "# Make sure all code is in the PATH.\n",
    "sys.path.append(\"../src/\")"
   ]
  },
  {
   "cell_type": "code",
   "execution_count": 63,
   "id": "818f0dd9",
   "metadata": {
    "pycharm": {
     "name": "#%%\n"
    }
   },
   "outputs": [],
   "source": [
    "import matplotlib.pyplot as plt\n",
    "import matplotlib.ticker as mticker\n",
    "import numpy as np\n",
    "import pandas as pd\n",
    "import seaborn as sns\n",
    "from matplotlib.colors import LogNorm"
   ]
  },
  {
   "cell_type": "code",
   "execution_count": 64,
   "id": "05c3d71a",
   "metadata": {
    "pycharm": {
     "name": "#%%\n"
    }
   },
   "outputs": [],
   "source": [
    "# Plot styling.\n",
    "plt.style.use([\"seaborn-white\", \"seaborn-paper\"])\n",
    "plt.rc(\"font\", family=\"sans-serif\")\n",
    "sns.set_palette([\"#9e0059\", \"#6da7de\", \"#ee266d\", \"#dee000\", \"#eb861e\"])\n",
    "sns.set_context(\"paper\")\n",
    "\n",
    "# ensure directory\n",
    "Path(\"results/img/\").mkdir(parents=True, exist_ok=True)"
   ]
  },
  {
   "cell_type": "markdown",
   "source": [
    "## Finished setup, start plotting"
   ],
   "metadata": {
    "collapsed": false,
    "pycharm": {
     "name": "#%% md\n"
    }
   }
  },
  {
   "cell_type": "code",
   "execution_count": 66,
   "outputs": [
    {
     "data": {
      "text/plain": "                  id1                 id2  delta_mz  tanimoto  cos_score  \\\n0  CCMSLIB00006582618  CCMSLIB00006584912    12.036    0.7827   0.070971   \n1  CCMSLIB00006582197  CCMSLIB00006582347    71.052    0.4146   0.092883   \n2  CCMSLIB00006584388  CCMSLIB00006582180    57.984    0.3979   0.075893   \n3  CCMSLIB00006584082  CCMSLIB00006582786    60.003    0.7140   0.039310   \n4  CCMSLIB00005465223  CCMSLIB00006584498    78.010    0.4856   0.057475   \n\n   cos_matched_intensity  cos_max_contribution  cos_n_greq_2p  cos_matches  \\\n0               0.723836              0.009573              0           90   \n1               0.506133              0.035505              2           58   \n2               0.645073              0.028774              1           82   \n3               0.741386              0.005280              0           93   \n4               0.908518              0.006245              0          393   \n\n   mod_score  mod_matched_intensity  mod_max_contribution  mod_n_greq_2p  \\\n0   0.215335               0.853506              0.139366              1   \n1   0.583416               0.961309              0.280779              5   \n2   0.591496               0.976410              0.212512              5   \n3   0.117195               0.950737              0.072315              1   \n4   0.068691               0.940469              0.008770              0   \n\n   mod_matches  nl_score  nl_matched_intensity  nl_max_contribution  \\\n0           94  0.157793              0.598486             0.139366   \n1           68  0.490630              0.374612             0.280779   \n2           93  0.526200              0.710029             0.212512   \n3          104  0.080784              0.613411             0.072315   \n4          477  0.014085              0.417171             0.008770   \n\n   nl_n_greq_2p  nl_matches  \n0             1          56  \n1             3          11  \n2             4          28  \n3             1          40  \n4             0         238  ",
      "text/html": "<div>\n<style scoped>\n    .dataframe tbody tr th:only-of-type {\n        vertical-align: middle;\n    }\n\n    .dataframe tbody tr th {\n        vertical-align: top;\n    }\n\n    .dataframe thead th {\n        text-align: right;\n    }\n</style>\n<table border=\"1\" class=\"dataframe\">\n  <thead>\n    <tr style=\"text-align: right;\">\n      <th></th>\n      <th>id1</th>\n      <th>id2</th>\n      <th>delta_mz</th>\n      <th>tanimoto</th>\n      <th>cos_score</th>\n      <th>cos_matched_intensity</th>\n      <th>cos_max_contribution</th>\n      <th>cos_n_greq_2p</th>\n      <th>cos_matches</th>\n      <th>mod_score</th>\n      <th>mod_matched_intensity</th>\n      <th>mod_max_contribution</th>\n      <th>mod_n_greq_2p</th>\n      <th>mod_matches</th>\n      <th>nl_score</th>\n      <th>nl_matched_intensity</th>\n      <th>nl_max_contribution</th>\n      <th>nl_n_greq_2p</th>\n      <th>nl_matches</th>\n    </tr>\n  </thead>\n  <tbody>\n    <tr>\n      <th>0</th>\n      <td>CCMSLIB00006582618</td>\n      <td>CCMSLIB00006584912</td>\n      <td>12.036</td>\n      <td>0.7827</td>\n      <td>0.070971</td>\n      <td>0.723836</td>\n      <td>0.009573</td>\n      <td>0</td>\n      <td>90</td>\n      <td>0.215335</td>\n      <td>0.853506</td>\n      <td>0.139366</td>\n      <td>1</td>\n      <td>94</td>\n      <td>0.157793</td>\n      <td>0.598486</td>\n      <td>0.139366</td>\n      <td>1</td>\n      <td>56</td>\n    </tr>\n    <tr>\n      <th>1</th>\n      <td>CCMSLIB00006582197</td>\n      <td>CCMSLIB00006582347</td>\n      <td>71.052</td>\n      <td>0.4146</td>\n      <td>0.092883</td>\n      <td>0.506133</td>\n      <td>0.035505</td>\n      <td>2</td>\n      <td>58</td>\n      <td>0.583416</td>\n      <td>0.961309</td>\n      <td>0.280779</td>\n      <td>5</td>\n      <td>68</td>\n      <td>0.490630</td>\n      <td>0.374612</td>\n      <td>0.280779</td>\n      <td>3</td>\n      <td>11</td>\n    </tr>\n    <tr>\n      <th>2</th>\n      <td>CCMSLIB00006584388</td>\n      <td>CCMSLIB00006582180</td>\n      <td>57.984</td>\n      <td>0.3979</td>\n      <td>0.075893</td>\n      <td>0.645073</td>\n      <td>0.028774</td>\n      <td>1</td>\n      <td>82</td>\n      <td>0.591496</td>\n      <td>0.976410</td>\n      <td>0.212512</td>\n      <td>5</td>\n      <td>93</td>\n      <td>0.526200</td>\n      <td>0.710029</td>\n      <td>0.212512</td>\n      <td>4</td>\n      <td>28</td>\n    </tr>\n    <tr>\n      <th>3</th>\n      <td>CCMSLIB00006584082</td>\n      <td>CCMSLIB00006582786</td>\n      <td>60.003</td>\n      <td>0.7140</td>\n      <td>0.039310</td>\n      <td>0.741386</td>\n      <td>0.005280</td>\n      <td>0</td>\n      <td>93</td>\n      <td>0.117195</td>\n      <td>0.950737</td>\n      <td>0.072315</td>\n      <td>1</td>\n      <td>104</td>\n      <td>0.080784</td>\n      <td>0.613411</td>\n      <td>0.072315</td>\n      <td>1</td>\n      <td>40</td>\n    </tr>\n    <tr>\n      <th>4</th>\n      <td>CCMSLIB00005465223</td>\n      <td>CCMSLIB00006584498</td>\n      <td>78.010</td>\n      <td>0.4856</td>\n      <td>0.057475</td>\n      <td>0.908518</td>\n      <td>0.006245</td>\n      <td>0</td>\n      <td>393</td>\n      <td>0.068691</td>\n      <td>0.940469</td>\n      <td>0.008770</td>\n      <td>0</td>\n      <td>477</td>\n      <td>0.014085</td>\n      <td>0.417171</td>\n      <td>0.008770</td>\n      <td>0</td>\n      <td>238</td>\n    </tr>\n  </tbody>\n</table>\n</div>"
     },
     "execution_count": 66,
     "metadata": {},
     "output_type": "execute_result"
    }
   ],
   "source": [
    "# filename = \"results/gnps_lib_sqrt_True_500000pairs_6min_signals_200maxdelta.parquet\"\n",
    "filename = \"results/BILELIB19_all_sqrt_False_100pairs_6min_signals_True_requirestruc_4i0-200deltamz_0mods.parquet\"\n",
    "# filename = \"results/20220418_ALL_GNPS_NO_PROPOGATED_acetyl_sqrt_False_500000pairs_6min_signals_42i01056specific_delta_0mods.parquet\"\n",
    "# filename = \"results/20220418_ALL_GNPS_NO_PROPOGATED_oxygen_sqrt_True_500000pairs_6min_signals_15i9949specific_delta_0mods.parquet\"\n",
    "# filename = \"results/BILELIB19_as_exchange_sqrt_True_10pairs_6min_signals_200maxdelta_8mods.parquet\"\n",
    "# filename = \"results/gnps_lib_sqrt_False_500000pairs_6min_signals_200maxdelta.parquet\"\n",
    "# filename = \"results/BILELIB19_oxygen_sqrt_False_500000pairs_6min_signals_15i9949specific_delta.parquet\"\n",
    "# filename = \"results/BILELIB19_as_exchange_sqrt_False_500000pairs_6min_signals_200maxdelta_8mods.parquet\"\n",
    "# filename = \"results/BILELIB19_bile_conjugates_sqrt_False_500000pairs_6min_signals_200maxdelta_5mods.parquet\"\n",
    "\n",
    "# use filename to identify exported files\n",
    "analysis_id = Path(filename).stem\n",
    "\n",
    "similarities = pd.read_parquet(filename)\n",
    "similarities.head(5)"
   ],
   "metadata": {
    "collapsed": false,
    "pycharm": {
     "name": "#%%\n"
    }
   }
  },
  {
   "cell_type": "code",
   "execution_count": null,
   "outputs": [],
   "source": [
    "# remove rows where all scores are 0\n",
    "similarities = similarities[(similarities[\"cos_score\"]>0) & (similarities[\"mod_score\"]>0) & (similarities[\"nl_score\"]>0)]\n",
    "len(similarities)"
   ],
   "metadata": {
    "collapsed": false,
    "pycharm": {
     "name": "#%%\n"
    }
   }
  },
  {
   "cell_type": "code",
   "execution_count": null,
   "outputs": [],
   "source": [
    "total = len(similarities)\n",
    "stats = {\n",
    "    'total': total,\n",
    "    'cos higher': len(similarities[similarities[\"cos_score\"]>similarities[\"nl_score\"]])/ total,\n",
    "    'nl higher': len(similarities[similarities[\"cos_score\"]<similarities[\"nl_score\"]])/ total\n",
    "}\n",
    "print(stats)"
   ],
   "metadata": {
    "collapsed": false,
    "pycharm": {
     "name": "#%%\n"
    }
   }
  },
  {
   "cell_type": "code",
   "execution_count": null,
   "outputs": [],
   "source": [
    "df = pd.DataFrame()\n",
    "df['cosine-nl'] = similarities['cos_score'] - similarities['nl_score']\n",
    "ax = sns.histplot(data=df, binwidth=0.04)\n",
    "ax.set_xlim((-1,1))\n",
    "\n",
    "plt.savefig(\"results/img/diff_{}.png\".format(analysis_id), dpi=300, bbox_inches=\"tight\")\n",
    "plt.show()\n",
    "plt.close()"
   ],
   "metadata": {
    "collapsed": false,
    "pycharm": {
     "name": "#%%\n"
    }
   }
  },
  {
   "cell_type": "code",
   "execution_count": null,
   "outputs": [],
   "source": [
    "plots = [\n",
    "        [\"nl_score\", \"cos_score\"],\n",
    "        [\"cos_score\", \"mod_score\"],\n",
    "        [\"nl_score\", \"mod_score\"],\n",
    "        [\"nl_max_contribution\", \"nl_score\"],\n",
    "        [\"cos_max_contribution\", \"cos_score\"],\n",
    "        [\"mod_max_contribution\", \"mod_score\"],\n",
    "        [\"nl_matched_intensity\", \"nl_score\"],\n",
    "        [\"cos_matched_intensity\", \"cos_score\"],\n",
    "        [\"mod_matched_intensity\", \"mod_score\"],\n",
    "        [\"nl_matched_intensity\", \"cos_matched_intensity\"],\n",
    "        [\"nl_max_contribution\", \"cos_max_contribution\"],\n",
    "        [\"nl_max_contribution\", \"mod_max_contribution\"],\n",
    "    ]\n",
    "\n",
    "fig, axes = plt.subplots(4, 3, figsize=(7, 12 / 1.618))\n",
    "\n",
    "bins = 50\n",
    "tick_locators = mticker.FixedLocator(np.arange(0, bins + 1, bins / 4))\n",
    "tick_labels = np.asarray([f\"{a:.2f}\" for a in np.arange(0, 1.01, 0.25)])\n",
    "\n",
    "for i, ax in enumerate(axes.flatten()):\n",
    "    if i >= len(plots):\n",
    "        break\n",
    "\n",
    "    (xlabel, ylabel) = plots[i]\n",
    "    hist, _, _ = np.histogram2d(\n",
    "        similarities[xlabel],\n",
    "        similarities[ylabel],\n",
    "        bins=bins,\n",
    "        range=[[0, 1], [0, 1]],\n",
    "    )\n",
    "    heatmap = sns.heatmap(\n",
    "        np.rot90(hist),\n",
    "        cmap=\"viridis\",\n",
    "        cbar=False,\n",
    "        square=True,\n",
    "        xticklabels=False,\n",
    "        yticklabels=False,\n",
    "        ax=ax,\n",
    "        norm=LogNorm(),\n",
    "    )\n",
    "    ax.yaxis.set_major_locator(tick_locators)\n",
    "    ax.set_yticklabels(tick_labels[::-1])\n",
    "    ax.xaxis.set_major_locator(tick_locators)\n",
    "    ax.set_xticklabels(tick_labels)\n",
    "    for _, spine in heatmap.spines.items():\n",
    "        spine.set_visible(True)\n",
    "    ax.set_xlabel(xlabel.replace(\"_\", \" \").capitalize())\n",
    "    ax.set_ylabel(ylabel.replace(\"_\", \" \").capitalize())\n",
    "\n",
    "\n",
    "plt.tight_layout()\n",
    "\n",
    "plt.savefig(\"results/img/score_contributions_{}.png\".format(analysis_id), dpi=300, bbox_inches=\"tight\")\n",
    "plt.show()\n",
    "plt.close()"
   ],
   "metadata": {
    "collapsed": false,
    "pycharm": {
     "name": "#%%\n"
    }
   }
  },
  {
   "cell_type": "code",
   "execution_count": null,
   "outputs": [],
   "source": [
    "fig, axes = plt.subplots(1, 3, figsize=(10, 4))\n",
    "\n",
    "xlabels = [\"cos_n_greq_2p\",\"nl_n_greq_2p\",\"mod_n_greq_2p\"]\n",
    "max_x = similarities[[\"cos_n_greq_2p\",\"nl_n_greq_2p\",\"mod_n_greq_2p\"]].max().max()\n",
    "max_y = max(similarities[xlabel].value_counts()[0] for xlabel in xlabels) * 1.02\n",
    "\n",
    "for i, ax in enumerate(axes.flatten()):\n",
    "    xlabel = xlabels[i]\n",
    "\n",
    "    hist = sns.histplot(data=similarities, x=xlabel, binwidth=1, ax= ax)\n",
    "    # for _, spine in hist.spines.items():\n",
    "    #     spine.set_visible(True)\n",
    "    # ax.set_xlabel(xlabel.replace(\"_\", \" \").capitalize())\n",
    "    # ax.set_ylabel(ylabel.replace(\"_\", \" \").capitalize())\n",
    "\n",
    "    ax.set_xlim((0,max_x))\n",
    "    ax.set_ylim((0,max_y))\n",
    "\n",
    "plt.tight_layout()\n",
    "\n",
    "plt.savefig(\"results/img/greater_2p_signals_{}.png\".format(analysis_id), dpi=300, bbox_inches=\"tight\")\n",
    "plt.show()\n",
    "plt.close()"
   ],
   "metadata": {
    "collapsed": false,
    "pycharm": {
     "name": "#%%\n"
    }
   }
  },
  {
   "cell_type": "code",
   "execution_count": null,
   "outputs": [],
   "source": [
    "g = sns.pairplot(similarities, kind=\"hist\",\n",
    "             vars=[\"cos_score\", \"nl_score\", \"mod_score\", \"cos_max_contribution\", \"nl_max_contribution\"])\n",
    "for axes in g.axes:\n",
    "    for a in axes:\n",
    "        a.set_xlim((0,1))\n",
    "        a.set_ylim((0,1))\n",
    "\n",
    "plt.savefig(\"results/img/pair_{}.png\".format(analysis_id), dpi=300, bbox_inches=\"tight\")\n",
    "plt.show()\n",
    "plt.close()"
   ],
   "metadata": {
    "collapsed": false,
    "pycharm": {
     "name": "#%%\n"
    }
   }
  }
 ],
 "metadata": {
  "kernelspec": {
   "display_name": "Python 3 (ipykernel)",
   "language": "python",
   "name": "python3"
  },
  "language_info": {
   "codemirror_mode": {
    "name": "ipython",
    "version": 3
   },
   "file_extension": ".py",
   "mimetype": "text/x-python",
   "name": "python",
   "nbconvert_exporter": "python",
   "pygments_lexer": "ipython3",
   "version": "3.10.2"
  }
 },
 "nbformat": 4,
 "nbformat_minor": 5
}