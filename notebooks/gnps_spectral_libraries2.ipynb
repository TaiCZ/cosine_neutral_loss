{
 "cells": [
  {
   "cell_type": "code",
   "execution_count": 6,
   "outputs": [],
   "source": [
    "import os\n",
    "import sys\n",
    "from pathlib import Path\n",
    "# Make sure all code is in the PATH.\n",
    "sys.path.append(\"../src/\")"
   ],
   "metadata": {
    "collapsed": false,
    "pycharm": {
     "name": "#%%\n"
    }
   }
  },
  {
   "cell_type": "code",
   "execution_count": 7,
   "id": "2d058e45",
   "metadata": {},
   "outputs": [
    {
     "ename": "AttributeError",
     "evalue": "module 'scipy' has no attribute '_lib'",
     "output_type": "error",
     "traceback": [
      "\u001B[1;31m---------------------------------------------------------------------------\u001B[0m",
      "\u001B[1;31mAttributeError\u001B[0m                            Traceback (most recent call last)",
      "Input \u001B[1;32mIn [7]\u001B[0m, in \u001B[0;36m<cell line: 7>\u001B[1;34m()\u001B[0m\n\u001B[0;32m      5\u001B[0m \u001B[38;5;28;01mimport\u001B[39;00m \u001B[38;5;21;01mpandas\u001B[39;00m \u001B[38;5;28;01mas\u001B[39;00m \u001B[38;5;21;01mpd\u001B[39;00m\n\u001B[0;32m      6\u001B[0m \u001B[38;5;28;01mimport\u001B[39;00m \u001B[38;5;21;01mpyteomics\u001B[39;00m\u001B[38;5;21;01m.\u001B[39;00m\u001B[38;5;21;01mmgf\u001B[39;00m\n\u001B[1;32m----> 7\u001B[0m \u001B[38;5;28;01mimport\u001B[39;00m \u001B[38;5;21;01mseaborn\u001B[39;00m \u001B[38;5;28;01mas\u001B[39;00m \u001B[38;5;21;01msns\u001B[39;00m\n\u001B[0;32m      8\u001B[0m \u001B[38;5;28;01mimport\u001B[39;00m \u001B[38;5;21;01mtqdm\u001B[39;00m\u001B[38;5;21;01m.\u001B[39;00m\u001B[38;5;21;01mnotebook\u001B[39;00m \u001B[38;5;28;01mas\u001B[39;00m \u001B[38;5;21;01mtqdm\u001B[39;00m\n\u001B[0;32m      9\u001B[0m \u001B[38;5;28;01mfrom\u001B[39;00m \u001B[38;5;21;01mmatplotlib\u001B[39;00m\u001B[38;5;21;01m.\u001B[39;00m\u001B[38;5;21;01mcolors\u001B[39;00m \u001B[38;5;28;01mimport\u001B[39;00m LogNorm\n",
      "File \u001B[1;32mD:\\git\\cosine_neutral_loss\\venv\\lib\\site-packages\\seaborn\\__init__.py:2\u001B[0m, in \u001B[0;36m<module>\u001B[1;34m\u001B[0m\n\u001B[0;32m      1\u001B[0m \u001B[38;5;66;03m# Import seaborn objects\u001B[39;00m\n\u001B[1;32m----> 2\u001B[0m \u001B[38;5;28;01mfrom\u001B[39;00m \u001B[38;5;21;01m.\u001B[39;00m\u001B[38;5;21;01mrcmod\u001B[39;00m \u001B[38;5;28;01mimport\u001B[39;00m \u001B[38;5;241m*\u001B[39m  \u001B[38;5;66;03m# noqa: F401,F403\u001B[39;00m\n\u001B[0;32m      3\u001B[0m \u001B[38;5;28;01mfrom\u001B[39;00m \u001B[38;5;21;01m.\u001B[39;00m\u001B[38;5;21;01mutils\u001B[39;00m \u001B[38;5;28;01mimport\u001B[39;00m \u001B[38;5;241m*\u001B[39m  \u001B[38;5;66;03m# noqa: F401,F403\u001B[39;00m\n\u001B[0;32m      4\u001B[0m \u001B[38;5;28;01mfrom\u001B[39;00m \u001B[38;5;21;01m.\u001B[39;00m\u001B[38;5;21;01mpalettes\u001B[39;00m \u001B[38;5;28;01mimport\u001B[39;00m \u001B[38;5;241m*\u001B[39m  \u001B[38;5;66;03m# noqa: F401,F403\u001B[39;00m\n",
      "File \u001B[1;32mD:\\git\\cosine_neutral_loss\\venv\\lib\\site-packages\\seaborn\\rcmod.py:7\u001B[0m, in \u001B[0;36m<module>\u001B[1;34m\u001B[0m\n\u001B[0;32m      5\u001B[0m \u001B[38;5;28;01mimport\u001B[39;00m \u001B[38;5;21;01mmatplotlib\u001B[39;00m \u001B[38;5;28;01mas\u001B[39;00m \u001B[38;5;21;01mmpl\u001B[39;00m\n\u001B[0;32m      6\u001B[0m \u001B[38;5;28;01mfrom\u001B[39;00m \u001B[38;5;21;01mcycler\u001B[39;00m \u001B[38;5;28;01mimport\u001B[39;00m cycler\n\u001B[1;32m----> 7\u001B[0m \u001B[38;5;28;01mfrom\u001B[39;00m \u001B[38;5;21;01m.\u001B[39;00m \u001B[38;5;28;01mimport\u001B[39;00m palettes\n\u001B[0;32m     10\u001B[0m __all__ \u001B[38;5;241m=\u001B[39m [\u001B[38;5;124m\"\u001B[39m\u001B[38;5;124mset_theme\u001B[39m\u001B[38;5;124m\"\u001B[39m, \u001B[38;5;124m\"\u001B[39m\u001B[38;5;124mset\u001B[39m\u001B[38;5;124m\"\u001B[39m, \u001B[38;5;124m\"\u001B[39m\u001B[38;5;124mreset_defaults\u001B[39m\u001B[38;5;124m\"\u001B[39m, \u001B[38;5;124m\"\u001B[39m\u001B[38;5;124mreset_orig\u001B[39m\u001B[38;5;124m\"\u001B[39m,\n\u001B[0;32m     11\u001B[0m            \u001B[38;5;124m\"\u001B[39m\u001B[38;5;124maxes_style\u001B[39m\u001B[38;5;124m\"\u001B[39m, \u001B[38;5;124m\"\u001B[39m\u001B[38;5;124mset_style\u001B[39m\u001B[38;5;124m\"\u001B[39m, \u001B[38;5;124m\"\u001B[39m\u001B[38;5;124mplotting_context\u001B[39m\u001B[38;5;124m\"\u001B[39m, \u001B[38;5;124m\"\u001B[39m\u001B[38;5;124mset_context\u001B[39m\u001B[38;5;124m\"\u001B[39m,\n\u001B[0;32m     12\u001B[0m            \u001B[38;5;124m\"\u001B[39m\u001B[38;5;124mset_palette\u001B[39m\u001B[38;5;124m\"\u001B[39m]\n\u001B[0;32m     15\u001B[0m _style_keys \u001B[38;5;241m=\u001B[39m [\n\u001B[0;32m     16\u001B[0m \n\u001B[0;32m     17\u001B[0m     \u001B[38;5;124m\"\u001B[39m\u001B[38;5;124maxes.facecolor\u001B[39m\u001B[38;5;124m\"\u001B[39m,\n\u001B[1;32m   (...)\u001B[0m\n\u001B[0;32m     52\u001B[0m \n\u001B[0;32m     53\u001B[0m ]\n",
      "File \u001B[1;32mD:\\git\\cosine_neutral_loss\\venv\\lib\\site-packages\\seaborn\\palettes.py:9\u001B[0m, in \u001B[0;36m<module>\u001B[1;34m\u001B[0m\n\u001B[0;32m      5\u001B[0m \u001B[38;5;28;01mimport\u001B[39;00m \u001B[38;5;21;01mmatplotlib\u001B[39;00m \u001B[38;5;28;01mas\u001B[39;00m \u001B[38;5;21;01mmpl\u001B[39;00m\n\u001B[0;32m      7\u001B[0m \u001B[38;5;28;01mfrom\u001B[39;00m \u001B[38;5;21;01m.\u001B[39;00m\u001B[38;5;21;01mexternal\u001B[39;00m \u001B[38;5;28;01mimport\u001B[39;00m husl\n\u001B[1;32m----> 9\u001B[0m \u001B[38;5;28;01mfrom\u001B[39;00m \u001B[38;5;21;01m.\u001B[39;00m\u001B[38;5;21;01mutils\u001B[39;00m \u001B[38;5;28;01mimport\u001B[39;00m desaturate, get_color_cycle\n\u001B[0;32m     10\u001B[0m \u001B[38;5;28;01mfrom\u001B[39;00m \u001B[38;5;21;01m.\u001B[39;00m\u001B[38;5;21;01mcolors\u001B[39;00m \u001B[38;5;28;01mimport\u001B[39;00m xkcd_rgb, crayons\n\u001B[0;32m     13\u001B[0m __all__ \u001B[38;5;241m=\u001B[39m [\u001B[38;5;124m\"\u001B[39m\u001B[38;5;124mcolor_palette\u001B[39m\u001B[38;5;124m\"\u001B[39m, \u001B[38;5;124m\"\u001B[39m\u001B[38;5;124mhls_palette\u001B[39m\u001B[38;5;124m\"\u001B[39m, \u001B[38;5;124m\"\u001B[39m\u001B[38;5;124mhusl_palette\u001B[39m\u001B[38;5;124m\"\u001B[39m, \u001B[38;5;124m\"\u001B[39m\u001B[38;5;124mmpl_palette\u001B[39m\u001B[38;5;124m\"\u001B[39m,\n\u001B[0;32m     14\u001B[0m            \u001B[38;5;124m\"\u001B[39m\u001B[38;5;124mdark_palette\u001B[39m\u001B[38;5;124m\"\u001B[39m, \u001B[38;5;124m\"\u001B[39m\u001B[38;5;124mlight_palette\u001B[39m\u001B[38;5;124m\"\u001B[39m, \u001B[38;5;124m\"\u001B[39m\u001B[38;5;124mdiverging_palette\u001B[39m\u001B[38;5;124m\"\u001B[39m,\n\u001B[0;32m     15\u001B[0m            \u001B[38;5;124m\"\u001B[39m\u001B[38;5;124mblend_palette\u001B[39m\u001B[38;5;124m\"\u001B[39m, \u001B[38;5;124m\"\u001B[39m\u001B[38;5;124mxkcd_palette\u001B[39m\u001B[38;5;124m\"\u001B[39m, \u001B[38;5;124m\"\u001B[39m\u001B[38;5;124mcrayon_palette\u001B[39m\u001B[38;5;124m\"\u001B[39m,\n\u001B[0;32m     16\u001B[0m            \u001B[38;5;124m\"\u001B[39m\u001B[38;5;124mcubehelix_palette\u001B[39m\u001B[38;5;124m\"\u001B[39m, \u001B[38;5;124m\"\u001B[39m\u001B[38;5;124mset_color_codes\u001B[39m\u001B[38;5;124m\"\u001B[39m]\n",
      "File \u001B[1;32mD:\\git\\cosine_neutral_loss\\venv\\lib\\site-packages\\seaborn\\utils.py:10\u001B[0m, in \u001B[0;36m<module>\u001B[1;34m\u001B[0m\n\u001B[0;32m      7\u001B[0m \u001B[38;5;28;01mfrom\u001B[39;00m \u001B[38;5;21;01murllib\u001B[39;00m\u001B[38;5;21;01m.\u001B[39;00m\u001B[38;5;21;01mrequest\u001B[39;00m \u001B[38;5;28;01mimport\u001B[39;00m urlopen, urlretrieve\n\u001B[0;32m      9\u001B[0m \u001B[38;5;28;01mimport\u001B[39;00m \u001B[38;5;21;01mnumpy\u001B[39;00m \u001B[38;5;28;01mas\u001B[39;00m \u001B[38;5;21;01mnp\u001B[39;00m\n\u001B[1;32m---> 10\u001B[0m \u001B[38;5;28;01mfrom\u001B[39;00m \u001B[38;5;21;01mscipy\u001B[39;00m \u001B[38;5;28;01mimport\u001B[39;00m stats\n\u001B[0;32m     11\u001B[0m \u001B[38;5;28;01mimport\u001B[39;00m \u001B[38;5;21;01mpandas\u001B[39;00m \u001B[38;5;28;01mas\u001B[39;00m \u001B[38;5;21;01mpd\u001B[39;00m\n\u001B[0;32m     12\u001B[0m \u001B[38;5;28;01mimport\u001B[39;00m \u001B[38;5;21;01mmatplotlib\u001B[39;00m \u001B[38;5;28;01mas\u001B[39;00m \u001B[38;5;21;01mmpl\u001B[39;00m\n",
      "File \u001B[1;32mD:\\git\\cosine_neutral_loss\\venv\\lib\\site-packages\\scipy\\stats\\__init__.py:453\u001B[0m, in \u001B[0;36m<module>\u001B[1;34m\u001B[0m\n\u001B[0;32m      1\u001B[0m \u001B[38;5;124;03m\"\"\"\u001B[39;00m\n\u001B[0;32m      2\u001B[0m \u001B[38;5;124;03m.. _statsrefmanual:\u001B[39;00m\n\u001B[0;32m      3\u001B[0m \n\u001B[1;32m   (...)\u001B[0m\n\u001B[0;32m    450\u001B[0m \n\u001B[0;32m    451\u001B[0m \u001B[38;5;124;03m\"\"\"\u001B[39;00m\n\u001B[1;32m--> 453\u001B[0m \u001B[38;5;28;01mfrom\u001B[39;00m \u001B[38;5;21;01m.\u001B[39;00m\u001B[38;5;21;01m_stats_py\u001B[39;00m \u001B[38;5;28;01mimport\u001B[39;00m \u001B[38;5;241m*\u001B[39m\n\u001B[0;32m    454\u001B[0m \u001B[38;5;28;01mfrom\u001B[39;00m \u001B[38;5;21;01m.\u001B[39;00m\u001B[38;5;21;01m_variation\u001B[39;00m \u001B[38;5;28;01mimport\u001B[39;00m variation\n\u001B[0;32m    455\u001B[0m \u001B[38;5;28;01mfrom\u001B[39;00m \u001B[38;5;21;01m.\u001B[39;00m\u001B[38;5;21;01mdistributions\u001B[39;00m \u001B[38;5;28;01mimport\u001B[39;00m \u001B[38;5;241m*\u001B[39m\n",
      "File \u001B[1;32mD:\\git\\cosine_neutral_loss\\venv\\lib\\site-packages\\scipy\\stats\\_stats_py.py:44\u001B[0m, in \u001B[0;36m<module>\u001B[1;34m\u001B[0m\n\u001B[0;32m     42\u001B[0m \u001B[38;5;28;01mimport\u001B[39;00m \u001B[38;5;21;01mscipy\u001B[39;00m\u001B[38;5;21;01m.\u001B[39;00m\u001B[38;5;21;01mspecial\u001B[39;00m \u001B[38;5;28;01mas\u001B[39;00m \u001B[38;5;21;01mspecial\u001B[39;00m\n\u001B[0;32m     43\u001B[0m \u001B[38;5;28;01mfrom\u001B[39;00m \u001B[38;5;21;01mscipy\u001B[39;00m \u001B[38;5;28;01mimport\u001B[39;00m linalg\n\u001B[1;32m---> 44\u001B[0m \u001B[38;5;28;01mfrom\u001B[39;00m \u001B[38;5;21;01m.\u001B[39;00m \u001B[38;5;28;01mimport\u001B[39;00m distributions\n\u001B[0;32m     45\u001B[0m \u001B[38;5;28;01mfrom\u001B[39;00m \u001B[38;5;21;01m.\u001B[39;00m \u001B[38;5;28;01mimport\u001B[39;00m _mstats_basic \u001B[38;5;28;01mas\u001B[39;00m mstats_basic\n\u001B[0;32m     46\u001B[0m \u001B[38;5;28;01mfrom\u001B[39;00m \u001B[38;5;21;01m.\u001B[39;00m\u001B[38;5;21;01m_stats_mstats_common\u001B[39;00m \u001B[38;5;28;01mimport\u001B[39;00m (_find_repeats, linregress, theilslopes,\n\u001B[0;32m     47\u001B[0m                                    siegelslopes)\n",
      "File \u001B[1;32mD:\\git\\cosine_neutral_loss\\venv\\lib\\site-packages\\scipy\\stats\\distributions.py:8\u001B[0m, in \u001B[0;36m<module>\u001B[1;34m\u001B[0m\n\u001B[0;32m      1\u001B[0m \u001B[38;5;66;03m#\u001B[39;00m\n\u001B[0;32m      2\u001B[0m \u001B[38;5;66;03m# Author:  Travis Oliphant  2002-2011 with contributions from\u001B[39;00m\n\u001B[0;32m      3\u001B[0m \u001B[38;5;66;03m#          SciPy Developers 2004-2011\u001B[39;00m\n\u001B[1;32m   (...)\u001B[0m\n\u001B[0;32m      6\u001B[0m \u001B[38;5;66;03m#       instead of `git blame -Lxxx,+x`.\u001B[39;00m\n\u001B[0;32m      7\u001B[0m \u001B[38;5;66;03m#\u001B[39;00m\n\u001B[1;32m----> 8\u001B[0m \u001B[38;5;28;01mfrom\u001B[39;00m \u001B[38;5;21;01m.\u001B[39;00m\u001B[38;5;21;01m_distn_infrastructure\u001B[39;00m \u001B[38;5;28;01mimport\u001B[39;00m (rv_discrete, rv_continuous, rv_frozen)\n\u001B[0;32m     10\u001B[0m \u001B[38;5;28;01mfrom\u001B[39;00m \u001B[38;5;21;01m.\u001B[39;00m \u001B[38;5;28;01mimport\u001B[39;00m _continuous_distns\n\u001B[0;32m     11\u001B[0m \u001B[38;5;28;01mfrom\u001B[39;00m \u001B[38;5;21;01m.\u001B[39;00m \u001B[38;5;28;01mimport\u001B[39;00m _discrete_distns\n",
      "File \u001B[1;32mD:\\git\\cosine_neutral_loss\\venv\\lib\\site-packages\\scipy\\stats\\_distn_infrastructure.py:24\u001B[0m, in \u001B[0;36m<module>\u001B[1;34m\u001B[0m\n\u001B[0;32m     20\u001B[0m \u001B[38;5;28;01mfrom\u001B[39;00m \u001B[38;5;21;01mscipy\u001B[39;00m\u001B[38;5;21;01m.\u001B[39;00m\u001B[38;5;21;01mspecial\u001B[39;00m \u001B[38;5;28;01mimport\u001B[39;00m (comb, chndtr, entr, xlogy, ive)\n\u001B[0;32m     22\u001B[0m \u001B[38;5;66;03m# for root finding for continuous distribution ppf, and max likelihood\u001B[39;00m\n\u001B[0;32m     23\u001B[0m \u001B[38;5;66;03m# estimation\u001B[39;00m\n\u001B[1;32m---> 24\u001B[0m \u001B[38;5;28;01mfrom\u001B[39;00m \u001B[38;5;21;01mscipy\u001B[39;00m \u001B[38;5;28;01mimport\u001B[39;00m optimize\n\u001B[0;32m     26\u001B[0m \u001B[38;5;66;03m# for functions of continuous distributions (e.g. moments, entropy, cdf)\u001B[39;00m\n\u001B[0;32m     27\u001B[0m \u001B[38;5;28;01mfrom\u001B[39;00m \u001B[38;5;21;01mscipy\u001B[39;00m \u001B[38;5;28;01mimport\u001B[39;00m integrate\n",
      "File \u001B[1;32mD:\\git\\cosine_neutral_loss\\venv\\lib\\site-packages\\scipy\\optimize\\__init__.py:399\u001B[0m, in \u001B[0;36m<module>\u001B[1;34m\u001B[0m\n\u001B[0;32m      1\u001B[0m \u001B[38;5;124;03m\"\"\"\u001B[39;00m\n\u001B[0;32m      2\u001B[0m \u001B[38;5;124;03m=====================================================\u001B[39;00m\n\u001B[0;32m      3\u001B[0m \u001B[38;5;124;03mOptimization and root finding (:mod:`scipy.optimize`)\u001B[39;00m\n\u001B[1;32m   (...)\u001B[0m\n\u001B[0;32m    396\u001B[0m \n\u001B[0;32m    397\u001B[0m \u001B[38;5;124;03m\"\"\"\u001B[39;00m\n\u001B[1;32m--> 399\u001B[0m \u001B[38;5;28;01mfrom\u001B[39;00m \u001B[38;5;21;01m.\u001B[39;00m\u001B[38;5;21;01m_optimize\u001B[39;00m \u001B[38;5;28;01mimport\u001B[39;00m \u001B[38;5;241m*\u001B[39m\n\u001B[0;32m    400\u001B[0m \u001B[38;5;28;01mfrom\u001B[39;00m \u001B[38;5;21;01m.\u001B[39;00m\u001B[38;5;21;01m_minimize\u001B[39;00m \u001B[38;5;28;01mimport\u001B[39;00m \u001B[38;5;241m*\u001B[39m\n\u001B[0;32m    401\u001B[0m \u001B[38;5;28;01mfrom\u001B[39;00m \u001B[38;5;21;01m.\u001B[39;00m\u001B[38;5;21;01m_root\u001B[39;00m \u001B[38;5;28;01mimport\u001B[39;00m \u001B[38;5;241m*\u001B[39m\n",
      "File \u001B[1;32mD:\\git\\cosine_neutral_loss\\venv\\lib\\site-packages\\scipy\\optimize\\_optimize.py:33\u001B[0m, in \u001B[0;36m<module>\u001B[1;34m\u001B[0m\n\u001B[0;32m     30\u001B[0m \u001B[38;5;28;01mfrom\u001B[39;00m \u001B[38;5;21;01mnumpy\u001B[39;00m \u001B[38;5;28;01mimport\u001B[39;00m (atleast_1d, eye, argmin, zeros, shape, squeeze,\n\u001B[0;32m     31\u001B[0m                    asarray, sqrt, Inf, asfarray)\n\u001B[0;32m     32\u001B[0m \u001B[38;5;28;01mimport\u001B[39;00m \u001B[38;5;21;01mnumpy\u001B[39;00m \u001B[38;5;28;01mas\u001B[39;00m \u001B[38;5;21;01mnp\u001B[39;00m\n\u001B[1;32m---> 33\u001B[0m \u001B[38;5;28;01mfrom\u001B[39;00m \u001B[38;5;21;01mscipy\u001B[39;00m\u001B[38;5;21;01m.\u001B[39;00m\u001B[38;5;21;01msparse\u001B[39;00m\u001B[38;5;21;01m.\u001B[39;00m\u001B[38;5;21;01mlinalg\u001B[39;00m \u001B[38;5;28;01mimport\u001B[39;00m LinearOperator\n\u001B[0;32m     34\u001B[0m \u001B[38;5;28;01mfrom\u001B[39;00m \u001B[38;5;21;01m.\u001B[39;00m\u001B[38;5;21;01m_linesearch\u001B[39;00m \u001B[38;5;28;01mimport\u001B[39;00m (line_search_wolfe1, line_search_wolfe2,\n\u001B[0;32m     35\u001B[0m                           line_search_wolfe2 \u001B[38;5;28;01mas\u001B[39;00m line_search,\n\u001B[0;32m     36\u001B[0m                           LineSearchWarning)\n\u001B[0;32m     37\u001B[0m \u001B[38;5;28;01mfrom\u001B[39;00m \u001B[38;5;21;01m.\u001B[39;00m\u001B[38;5;21;01m_numdiff\u001B[39;00m \u001B[38;5;28;01mimport\u001B[39;00m approx_derivative\n",
      "File \u001B[1;32mD:\\git\\cosine_neutral_loss\\venv\\lib\\site-packages\\scipy\\sparse\\linalg\\__init__.py:120\u001B[0m, in \u001B[0;36m<module>\u001B[1;34m\u001B[0m\n\u001B[0;32m      1\u001B[0m \u001B[38;5;124;03m\"\"\"\u001B[39;00m\n\u001B[0;32m      2\u001B[0m \u001B[38;5;124;03mSparse linear algebra (:mod:`scipy.sparse.linalg`)\u001B[39;00m\n\u001B[0;32m      3\u001B[0m \u001B[38;5;124;03m==================================================\u001B[39;00m\n\u001B[1;32m   (...)\u001B[0m\n\u001B[0;32m    117\u001B[0m \n\u001B[0;32m    118\u001B[0m \u001B[38;5;124;03m\"\"\"\u001B[39;00m\n\u001B[1;32m--> 120\u001B[0m \u001B[38;5;28;01mfrom\u001B[39;00m \u001B[38;5;21;01m.\u001B[39;00m\u001B[38;5;21;01m_isolve\u001B[39;00m \u001B[38;5;28;01mimport\u001B[39;00m \u001B[38;5;241m*\u001B[39m\n\u001B[0;32m    121\u001B[0m \u001B[38;5;28;01mfrom\u001B[39;00m \u001B[38;5;21;01m.\u001B[39;00m\u001B[38;5;21;01m_dsolve\u001B[39;00m \u001B[38;5;28;01mimport\u001B[39;00m \u001B[38;5;241m*\u001B[39m\n\u001B[0;32m    122\u001B[0m \u001B[38;5;28;01mfrom\u001B[39;00m \u001B[38;5;21;01m.\u001B[39;00m\u001B[38;5;21;01m_interface\u001B[39;00m \u001B[38;5;28;01mimport\u001B[39;00m \u001B[38;5;241m*\u001B[39m\n",
      "File \u001B[1;32mD:\\git\\cosine_neutral_loss\\venv\\lib\\site-packages\\scipy\\sparse\\linalg\\_isolve\\__init__.py:4\u001B[0m, in \u001B[0;36m<module>\u001B[1;34m\u001B[0m\n\u001B[0;32m      1\u001B[0m \u001B[38;5;124m\"\u001B[39m\u001B[38;5;124mIterative Solvers for Sparse Linear Systems\u001B[39m\u001B[38;5;124m\"\u001B[39m\n\u001B[0;32m      3\u001B[0m \u001B[38;5;66;03m#from info import __doc__\u001B[39;00m\n\u001B[1;32m----> 4\u001B[0m \u001B[38;5;28;01mfrom\u001B[39;00m \u001B[38;5;21;01m.\u001B[39;00m\u001B[38;5;21;01miterative\u001B[39;00m \u001B[38;5;28;01mimport\u001B[39;00m \u001B[38;5;241m*\u001B[39m\n\u001B[0;32m      5\u001B[0m \u001B[38;5;28;01mfrom\u001B[39;00m \u001B[38;5;21;01m.\u001B[39;00m\u001B[38;5;21;01mminres\u001B[39;00m \u001B[38;5;28;01mimport\u001B[39;00m minres\n\u001B[0;32m      6\u001B[0m \u001B[38;5;28;01mfrom\u001B[39;00m \u001B[38;5;21;01m.\u001B[39;00m\u001B[38;5;21;01mlgmres\u001B[39;00m \u001B[38;5;28;01mimport\u001B[39;00m lgmres\n",
      "File \u001B[1;32mD:\\git\\cosine_neutral_loss\\venv\\lib\\site-packages\\scipy\\sparse\\linalg\\_isolve\\iterative.py:150\u001B[0m, in \u001B[0;36m<module>\u001B[1;34m\u001B[0m\n\u001B[0;32m    124\u001B[0m         \u001B[38;5;28;01mreturn\u001B[39;00m fn\n\u001B[0;32m    125\u001B[0m     \u001B[38;5;28;01mreturn\u001B[39;00m combine\n\u001B[0;32m    128\u001B[0m \u001B[38;5;129;43m@set_docstring\u001B[39;49m\u001B[43m(\u001B[49m\u001B[38;5;124;43m'\u001B[39;49m\u001B[38;5;124;43mUse BIConjugate Gradient iteration to solve ``Ax = b``.\u001B[39;49m\u001B[38;5;124;43m'\u001B[39;49m\u001B[43m,\u001B[49m\n\u001B[0;32m    129\u001B[0m \u001B[43m               \u001B[49m\u001B[38;5;124;43m'\u001B[39;49m\u001B[38;5;124;43mThe real or complex N-by-N matrix of the linear system.\u001B[39;49m\u001B[38;5;130;43;01m\\n\u001B[39;49;00m\u001B[38;5;124;43m'\u001B[39;49m\n\u001B[0;32m    130\u001B[0m \u001B[43m               \u001B[49m\u001B[38;5;124;43m'\u001B[39;49m\u001B[38;5;124;43mAlternatively, ``A`` can be a linear operator which can\u001B[39;49m\u001B[38;5;130;43;01m\\n\u001B[39;49;00m\u001B[38;5;124;43m'\u001B[39;49m\n\u001B[0;32m    131\u001B[0m \u001B[43m               \u001B[49m\u001B[38;5;124;43m'\u001B[39;49m\u001B[38;5;124;43mproduce ``Ax`` and ``A^T x`` using, e.g.,\u001B[39;49m\u001B[38;5;130;43;01m\\n\u001B[39;49;00m\u001B[38;5;124;43m'\u001B[39;49m\n\u001B[0;32m    132\u001B[0m \u001B[43m               \u001B[49m\u001B[38;5;124;43m'\u001B[39;49m\u001B[38;5;124;43m``scipy.sparse.linalg.LinearOperator``.\u001B[39;49m\u001B[38;5;124;43m'\u001B[39;49m\u001B[43m,\u001B[49m\n\u001B[0;32m    133\u001B[0m \u001B[43m               \u001B[49m\u001B[43mfooter\u001B[49m\u001B[38;5;241;43m=\u001B[39;49m\u001B[38;5;124;43m\"\"\"\u001B[39;49m\n\u001B[0;32m    134\u001B[0m \n\u001B[0;32m    135\u001B[0m \u001B[38;5;124;43m               Examples\u001B[39;49m\n\u001B[0;32m    136\u001B[0m \u001B[38;5;124;43m               --------\u001B[39;49m\n\u001B[0;32m    137\u001B[0m \u001B[38;5;124;43m               >>> from scipy.sparse import csc_matrix\u001B[39;49m\n\u001B[0;32m    138\u001B[0m \u001B[38;5;124;43m               >>> from scipy.sparse.linalg import bicg\u001B[39;49m\n\u001B[0;32m    139\u001B[0m \u001B[38;5;124;43m               >>> A = csc_matrix([[3, 2, 0], [1, -1, 0], [0, 5, 1]], dtype=float)\u001B[39;49m\n\u001B[0;32m    140\u001B[0m \u001B[38;5;124;43m               >>> b = np.array([2, 4, -1], dtype=float)\u001B[39;49m\n\u001B[0;32m    141\u001B[0m \u001B[38;5;124;43m               >>> x, exitCode = bicg(A, b)\u001B[39;49m\n\u001B[0;32m    142\u001B[0m \u001B[38;5;124;43m               >>> print(exitCode)            # 0 indicates successful convergence\u001B[39;49m\n\u001B[0;32m    143\u001B[0m \u001B[38;5;124;43m               0\u001B[39;49m\n\u001B[0;32m    144\u001B[0m \u001B[38;5;124;43m               >>> np.allclose(A.dot(x), b)\u001B[39;49m\n\u001B[0;32m    145\u001B[0m \u001B[38;5;124;43m               True\u001B[39;49m\n\u001B[0;32m    146\u001B[0m \n\u001B[0;32m    147\u001B[0m \u001B[38;5;124;43m               \u001B[39;49m\u001B[38;5;124;43m\"\"\"\u001B[39;49m\n\u001B[0;32m    148\u001B[0m \u001B[43m               \u001B[49m\u001B[43m)\u001B[49m\n\u001B[0;32m    149\u001B[0m \u001B[38;5;129;43m@non_reentrant\u001B[39;49m\u001B[43m(\u001B[49m\u001B[43m)\u001B[49m\n\u001B[1;32m--> 150\u001B[0m \u001B[38;5;28;43;01mdef\u001B[39;49;00m\u001B[43m \u001B[49m\u001B[38;5;21;43mbicg\u001B[39;49m\u001B[43m(\u001B[49m\u001B[43mA\u001B[49m\u001B[43m,\u001B[49m\u001B[43m \u001B[49m\u001B[43mb\u001B[49m\u001B[43m,\u001B[49m\u001B[43m \u001B[49m\u001B[43mx0\u001B[49m\u001B[38;5;241;43m=\u001B[39;49m\u001B[38;5;28;43;01mNone\u001B[39;49;00m\u001B[43m,\u001B[49m\u001B[43m \u001B[49m\u001B[43mtol\u001B[49m\u001B[38;5;241;43m=\u001B[39;49m\u001B[38;5;241;43m1e-5\u001B[39;49m\u001B[43m,\u001B[49m\u001B[43m \u001B[49m\u001B[43mmaxiter\u001B[49m\u001B[38;5;241;43m=\u001B[39;49m\u001B[38;5;28;43;01mNone\u001B[39;49;00m\u001B[43m,\u001B[49m\u001B[43m \u001B[49m\u001B[43mM\u001B[49m\u001B[38;5;241;43m=\u001B[39;49m\u001B[38;5;28;43;01mNone\u001B[39;49;00m\u001B[43m,\u001B[49m\u001B[43m \u001B[49m\u001B[43mcallback\u001B[49m\u001B[38;5;241;43m=\u001B[39;49m\u001B[38;5;28;43;01mNone\u001B[39;49;00m\u001B[43m,\u001B[49m\u001B[43m \u001B[49m\u001B[43matol\u001B[49m\u001B[38;5;241;43m=\u001B[39;49m\u001B[38;5;28;43;01mNone\u001B[39;49;00m\u001B[43m)\u001B[49m\u001B[43m:\u001B[49m\n\u001B[0;32m    151\u001B[0m \u001B[43m    \u001B[49m\u001B[43mA\u001B[49m\u001B[43m,\u001B[49m\u001B[43mM\u001B[49m\u001B[43m,\u001B[49m\u001B[43mx\u001B[49m\u001B[43m,\u001B[49m\u001B[43mb\u001B[49m\u001B[43m,\u001B[49m\u001B[43mpostprocess\u001B[49m\u001B[43m \u001B[49m\u001B[38;5;241;43m=\u001B[39;49m\u001B[43m \u001B[49m\u001B[43mmake_system\u001B[49m\u001B[43m(\u001B[49m\u001B[43mA\u001B[49m\u001B[43m,\u001B[49m\u001B[43m \u001B[49m\u001B[43mM\u001B[49m\u001B[43m,\u001B[49m\u001B[43m \u001B[49m\u001B[43mx0\u001B[49m\u001B[43m,\u001B[49m\u001B[43m \u001B[49m\u001B[43mb\u001B[49m\u001B[43m)\u001B[49m\n\u001B[0;32m    153\u001B[0m \u001B[43m    \u001B[49m\u001B[43mn\u001B[49m\u001B[43m \u001B[49m\u001B[38;5;241;43m=\u001B[39;49m\u001B[43m \u001B[49m\u001B[38;5;28;43mlen\u001B[39;49m\u001B[43m(\u001B[49m\u001B[43mb\u001B[49m\u001B[43m)\u001B[49m\n",
      "File \u001B[1;32mD:\\git\\cosine_neutral_loss\\venv\\lib\\site-packages\\scipy\\_lib\\_threadsafety.py:57\u001B[0m, in \u001B[0;36mnon_reentrant.<locals>.decorator\u001B[1;34m(func)\u001B[0m\n\u001B[0;32m     55\u001B[0m     msg \u001B[38;5;241m=\u001B[39m \u001B[38;5;124m\"\u001B[39m\u001B[38;5;132;01m%s\u001B[39;00m\u001B[38;5;124m is not re-entrant\u001B[39m\u001B[38;5;124m\"\u001B[39m \u001B[38;5;241m%\u001B[39m func\u001B[38;5;241m.\u001B[39m\u001B[38;5;18m__name__\u001B[39m\n\u001B[0;32m     56\u001B[0m lock \u001B[38;5;241m=\u001B[39m ReentrancyLock(msg)\n\u001B[1;32m---> 57\u001B[0m \u001B[38;5;28;01mreturn\u001B[39;00m \u001B[43mlock\u001B[49m\u001B[38;5;241;43m.\u001B[39;49m\u001B[43mdecorate\u001B[49m\u001B[43m(\u001B[49m\u001B[43mfunc\u001B[49m\u001B[43m)\u001B[49m\n",
      "File \u001B[1;32mD:\\git\\cosine_neutral_loss\\venv\\lib\\site-packages\\scipy\\_lib\\_threadsafety.py:45\u001B[0m, in \u001B[0;36mReentrancyLock.decorate\u001B[1;34m(self, func)\u001B[0m\n\u001B[0;32m     43\u001B[0m     \u001B[38;5;28;01mwith\u001B[39;00m \u001B[38;5;28mself\u001B[39m:\n\u001B[0;32m     44\u001B[0m         \u001B[38;5;28;01mreturn\u001B[39;00m func(\u001B[38;5;241m*\u001B[39ma, \u001B[38;5;241m*\u001B[39m\u001B[38;5;241m*\u001B[39mkw)\n\u001B[1;32m---> 45\u001B[0m \u001B[38;5;28;01mreturn\u001B[39;00m \u001B[43mscipy\u001B[49m\u001B[38;5;241;43m.\u001B[39;49m\u001B[43m_lib\u001B[49m\u001B[38;5;241m.\u001B[39mdecorator\u001B[38;5;241m.\u001B[39mdecorate(func, caller)\n",
      "\u001B[1;31mAttributeError\u001B[0m: module 'scipy' has no attribute '_lib'"
     ]
    }
   ],
   "source": [
    "import matplotlib.pyplot as plt\n",
    "import matplotlib.ticker as mticker\n",
    "import numba as nb\n",
    "import numpy as np\n",
    "import pandas as pd\n",
    "import pyteomics.mgf\n",
    "import seaborn as sns\n",
    "import tqdm.notebook as tqdm\n",
    "from matplotlib.colors import LogNorm\n",
    "import spectrum_utils.spectrum as sus\n",
    "import similarity\n",
    "import bile_mods\n",
    "# import create_similarity_matrix as main_utils"
   ]
  },
  {
   "cell_type": "code",
   "execution_count": null,
   "id": "05c3d71a",
   "metadata": {},
   "outputs": [],
   "source": [
    "# Plot styling.\n",
    "plt.style.use([\"seaborn-white\", \"seaborn-paper\"])\n",
    "plt.rc(\"font\", family=\"sans-serif\")\n",
    "sns.set_palette([\"#9e0059\", \"#6da7de\", \"#ee266d\", \"#dee000\", \"#eb861e\"])\n",
    "sns.set_context(\"paper\")"
   ]
  },
  {
   "cell_type": "markdown",
   "source": [
    "## Setup parameters for the comparison\n"
   ],
   "metadata": {
    "collapsed": false,
    "pycharm": {
     "name": "#%% md\n"
    }
   }
  },
  {
   "cell_type": "code",
   "execution_count": null,
   "outputs": [],
   "source": [
    "# public parameters\n",
    "library_file = \"../data/BILELIB19.mgf\"\n",
    "# library_file = \"../data/20220418_ALL_GNPS_NO_PROPOGATED.mgf\"\n",
    "\n",
    "# analysis name\n",
    "analysis_name = \"oxygen\"\n",
    "\n",
    "# square root transformation of intensities is often performed to limit the impact of high abundant signals\n",
    "apply_sqrt = True\n",
    "\n",
    "# size of subset of spectral pairs\n",
    "n_spectral_pairs = 10\n",
    "\n",
    "# minimum number of signals only removes the spectra with less\n",
    "min_n_signals = 6\n",
    "\n",
    "# signal alignment tolerance\n",
    "abs_mz_tolerance = 0.02\n",
    "# only allow precursor mz difference of:\n",
    "max_mz_delta = 200\n",
    "# if defined, we will only search for specific delta m/z between two spectra\n",
    "# 16 oxygen 15.994914\n",
    "# otherwise define as -1\n",
    "specific_mod_mz = 15.9949\n",
    "# specific_mod_mz = -1\n",
    "\n",
    "# free bile acids compared to conjugated with amino acids\n",
    "# or different delta mz between different conjugated bile acids\n",
    "mod_list = np.empty(0, float)\n",
    "# mod_list = bile_mods.get_as_mods()\n",
    "# mod_list = bile_mods.get_as_exchange()\n",
    "\n",
    "library_file_name_without_ext = Path(library_file).stem\n",
    "# analysis ID is used for file export\n",
    "if specific_mod_mz <= 0:\n",
    "    analysis_id = \"{}_{}_sqrt_{}_{}pairs_{}min_signals_{}maxdelta_{}mods\".format(\n",
    "        library_file_name_without_ext,\n",
    "        analysis_name,\n",
    "        apply_sqrt,\n",
    "        n_spectral_pairs,\n",
    "        min_n_signals,\n",
    "        max_mz_delta,\n",
    "        len(mod_list),\n",
    "    ).replace(\".\", \"i\")\n",
    "else:\n",
    "    analysis_id = \"{}_{}_sqrt_{}_{}pairs_{}min_signals_{}specific_delta_{}mods\".format(\n",
    "        library_file_name_without_ext,\n",
    "        analysis_name,\n",
    "        apply_sqrt,\n",
    "        n_spectral_pairs,\n",
    "        min_n_signals,\n",
    "        specific_mod_mz,\n",
    "        len(mod_list),\n",
    "    ).replace(\".\", \"i\")\n",
    "\n",
    "# output filename of pairs only with pair selection relevant parameters:\n",
    "pairs_filename = (\n",
    "    \"temp/{}_pairs.parquet\".format(analysis_id)\n",
    "        .replace(\"sqrt_True_\", \"\")\n",
    "        .replace(\"sqrt_False_\", \"\")\n",
    ")\n",
    "spectra_filename = \"tempspectra/spectra_{}_{}min_signals_sqrt_{}.parquet\".format(\n",
    "    library_file_name_without_ext, min_n_signals, apply_sqrt\n",
    ")"
   ],
   "metadata": {
    "collapsed": false,
    "pycharm": {
     "name": "#%%\n"
    }
   }
  },
  {
   "cell_type": "code",
   "execution_count": null,
   "outputs": [],
   "source": [
    "# check for profile spectra in the library file - contains zero intensity values\n",
    "def is_centroid(spectrum_dict):\n",
    "    return all(i > 0 for i in spectrum_dict[\"intensity array\"])"
   ],
   "metadata": {
    "collapsed": false,
    "pycharm": {
     "name": "#%%\n"
    }
   }
  },
  {
   "cell_type": "code",
   "execution_count": null,
   "outputs": [],
   "source": [
    "spectra = None\n",
    "precursor_mz_list = None\n",
    "if (os.path.isfile(pairs_filename) == False) or (\n",
    "        os.path.isfile(spectra_filename) == False\n",
    "):\n",
    "    # missing either the spectra or pairs file\n",
    "    spectra = main_utils.import_from_mgf()\n",
    "    # Extract precursor mz as filter argument\n",
    "    precursor_mz = nb.typed.List()\n",
    "    for spectrum in spectra:\n",
    "        precursor_mz.append(spectrum.precursor_mz)"
   ],
   "metadata": {
    "collapsed": false,
    "pycharm": {
     "name": "#%%\n"
    }
   }
  },
  {
   "cell_type": "code",
   "execution_count": null,
   "outputs": [],
   "source": [
    "# compute subset of pairs\n",
    "pairs_df = main_utils.load_or_compute_pairs_df(precursor_mz_list)\n",
    "print(\"Comparing {} pairs\".format(len(pairs_df)))"
   ],
   "metadata": {
    "collapsed": false,
    "pycharm": {
     "name": "#%%\n"
    }
   }
  },
  {
   "cell_type": "code",
   "execution_count": null,
   "outputs": [],
   "source": [
    "similarities = main_utils.compute_similarity(spectra, pairs_df)\n",
    "main_utils.save_results(similarities)\n",
    "print(len(similarities))"
   ],
   "metadata": {
    "collapsed": false,
    "pycharm": {
     "name": "#%%\n"
    }
   }
  },
  {
   "cell_type": "code",
   "execution_count": null,
   "id": "7114f003",
   "metadata": {
    "pycharm": {
     "name": "#%%\n"
    }
   },
   "outputs": [],
   "source": [
    "fig, axes = plt.subplots(1, 3, figsize=(7.2, 7.2 / 1.618))\n",
    "\n",
    "bins = 50\n",
    "tick_locators = mticker.FixedLocator(np.arange(0, bins + 1, bins / 4))\n",
    "tick_labels = np.asarray([f\"{a:.2f}\" for a in np.arange(0, 1.01, 0.25)])\n",
    "for i, (xlabel, ylabel) in enumerate(\n",
    "        [\n",
    "            [\"cos_score\", \"mod_score\"],\n",
    "            [\"nl_score\", \"cos_score\"],\n",
    "            [\"nl_score\", \"mod_score\"]\n",
    "        ]\n",
    "    ):\n",
    "    hist, _, _ = np.histogram2d(\n",
    "        similarities[xlabel],\n",
    "        similarities[ylabel],\n",
    "        bins=bins,\n",
    "        range=[[0, 1], [0, 1]],\n",
    "    )\n",
    "    heatmap = sns.heatmap(\n",
    "        np.rot90(hist),\n",
    "        cmap=\"viridis\",\n",
    "        cbar=False,\n",
    "        square=True,\n",
    "        xticklabels=False,\n",
    "        yticklabels=False,\n",
    "        ax=axes[i],\n",
    "        norm=LogNorm(),\n",
    "    )\n",
    "    axes[i].yaxis.set_major_locator(tick_locators)\n",
    "    axes[i].set_yticklabels(tick_labels[::-1])\n",
    "    axes[i].xaxis.set_major_locator(tick_locators)\n",
    "    axes[i].set_xticklabels(tick_labels)\n",
    "    for _, spine in heatmap.spines.items():\n",
    "        spine.set_visible(True)\n",
    "    axes[i].set_xlabel(xlabel.replace(\"_\", \" \").capitalize())\n",
    "    axes[i].set_ylabel(ylabel.replace(\"_\", \" \").capitalize())\n",
    "    \n",
    "plt.tight_layout()\n",
    "\n",
    "Path(\"results/img/\").mkdir(parents=True, exist_ok=True)\n",
    "plt.savefig(\"results/img/{}.png\".format(analysis_name), dpi=300, bbox_inches=\"tight\")\n",
    "plt.show()\n",
    "plt.close()"
   ]
  },
  {
   "cell_type": "code",
   "execution_count": null,
   "outputs": [],
   "source": [],
   "metadata": {
    "collapsed": false,
    "pycharm": {
     "name": "#%%\n"
    }
   }
  }
 ],
 "metadata": {
  "kernelspec": {
   "display_name": "Python 3 (ipykernel)",
   "language": "python",
   "name": "python3"
  },
  "language_info": {
   "codemirror_mode": {
    "name": "ipython",
    "version": 3
   },
   "file_extension": ".py",
   "mimetype": "text/x-python",
   "name": "python",
   "nbconvert_exporter": "python",
   "pygments_lexer": "ipython3",
   "version": "3.10.2"
  }
 },
 "nbformat": 4,
 "nbformat_minor": 5
}